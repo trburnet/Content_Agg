{
 "cells": [
  {
   "cell_type": "code",
   "execution_count": null,
   "metadata": {},
   "outputs": [],
   "source": [
    "# learn about cross validation not just test_train_split\n",
    "\n",
    "# put lemmatization into model pipeline"
   ]
  },
  {
   "cell_type": "code",
   "execution_count": 3,
   "metadata": {},
   "outputs": [],
   "source": [
    "from IPython.display import clear_output"
   ]
  },
  {
   "cell_type": "code",
   "execution_count": 4,
   "metadata": {},
   "outputs": [],
   "source": [
    "!pip3 install -r requirements.txt\n",
    "clear_output()"
   ]
  },
  {
   "cell_type": "code",
   "execution_count": 5,
   "metadata": {},
   "outputs": [],
   "source": [
    "import feedparser\n",
    "import requests\n",
    "from bs4 import BeautifulSoup\n",
    "from datetime import datetime, timedelta\n",
    "import pandas as pd\n",
    "from fuzzywuzzy import fuzz\n",
    "from fuzzywuzzy import process\n",
    "import matplotlib\n",
    "import plotly.express as px\n",
    "import plotly.graph_objects as go\n",
    "import statsmodels\n",
    "import re\n"
   ]
  },
  {
   "cell_type": "code",
   "execution_count": 6,
   "metadata": {},
   "outputs": [],
   "source": [
    "import nltk.corpus\n",
    "nltk.download('stopwords')\n",
    "from nltk.corpus import stopwords\n",
    "stop = stopwords.words('english')\n",
    "\n",
    "import nltk \n",
    "nltk.download('punkt')\n",
    "from nltk.tokenize import sent_tokenize, word_tokenize\n",
    "\n",
    "from nltk.stem import PorterStemmer\n",
    "\n",
    "nltk.download('omw-1.4')\n",
    "nltk.download('wordnet')\n",
    "from nltk.stem import WordNetLemmatizer\n",
    "\n",
    "nltk.download('averaged_perceptron_tagger')\n",
    "clear_output()"
   ]
  },
  {
   "cell_type": "code",
   "execution_count": 7,
   "metadata": {},
   "outputs": [],
   "source": [
    "from sklearn.model_selection import train_test_split\n",
    "from sklearn.feature_extraction.text import TfidfVectorizer\n",
    "from sklearn.pipeline import Pipeline\n",
    "from sklearn.feature_extraction.text import CountVectorizer\n",
    "from sklearn.feature_extraction.text import TfidfTransformer\n",
    "from sklearn.linear_model import SGDClassifier, LogisticRegression\n",
    "from sklearn.metrics import classification_report"
   ]
  },
  {
   "cell_type": "code",
   "execution_count": 8,
   "metadata": {},
   "outputs": [],
   "source": [
    "import multiprocessing\n",
    "num_cores = multiprocessing.cpu_count()\n",
    "from joblib import Parallel, delayed"
   ]
  },
  {
   "cell_type": "code",
   "execution_count": 9,
   "metadata": {},
   "outputs": [],
   "source": [
    "class AdvancedParser:\n",
    "    \"\"\" Parses out rss feeds\"\"\"\n",
    "\n",
    "    def __init__(self, start_date='2022-10-01', end_date='2022-11-01', topic_urls_dict = {}, col_names=[]):\n",
    "        \n",
    "        self.start_date = datetime.strptime(start_date, '%Y-%m-%d')\n",
    "        self.end_date = datetime.strptime(end_date, '%Y-%m-%d')\n",
    "        self.topic_urls_dict = topic_urls_dict\n",
    "        self.all_dfs = []\n",
    "        self.col_names = col_names\n",
    "        \n",
    "        if not self.col_names:\n",
    "        # These are the common columns I've seen in podcast rss feeds\n",
    "            self.col_names = ['published_parsed',\n",
    "                                'id',\n",
    "                                'links',\n",
    "                                'summary',\n",
    "                                'title',\n",
    "                                'summary_detail',\n",
    "                                'title_detail',\n",
    "                                'published',\n",
    "                                'guidislink']\n",
    "\n",
    "    def _retrieve_rss_feed(self, url, topic=''):\n",
    "        xml_data = feedparser.parse(url)\n",
    "        df = pd.DataFrame(xml_data.entries)\n",
    "        df = self._ensure_columns(df, self.col_names)\n",
    "        df['topic'] = topic\n",
    "        self.all_dfs.append(df)\n",
    "\n",
    "    @staticmethod\n",
    "    def _ensure_columns(df, col_names):\n",
    "        return df[col_names]\n",
    "\n",
    "    def gather_data(self):\n",
    "        assert len(self.topic_urls_dict)\n",
    "\n",
    "        for topic, urls in self.topic_urls_dict.items():\n",
    "            for url in urls:\n",
    "                self._retrieve_rss_feed(url, topic)\n",
    "\n",
    "        final_df = pd.concat(self.all_dfs)\n",
    "        final_df.reset_index(drop=True, inplace=True)\n",
    "        return final_df"
   ]
  },
  {
   "cell_type": "code",
   "execution_count": 10,
   "metadata": {},
   "outputs": [],
   "source": [
    "topic_urls_dict = {'news' : [\"http://rss.cnn.com/rss/cnn_topstories.rss\",\n",
    "                                \"https://www.huffpost.com/section/front-page/feed?x=1\",\n",
    "                                \"https://feeds.simplecast.com/54nAGcIl\",\n",
    "                                \"https://feeds.feedburner.com/Monocle24TheGlobalist\",\n",
    "                                \"https://www.theguardian.com/news/series/todayinfocus/podcast.xml\"],\n",
    "                'crime' : [\"https://feeds.simplecast.com/qm_9xx0g\",\n",
    "                                \"https://rss.art19.com/morbid-a-true-crime-podcast\",\n",
    "                                \"https://rss.art19.com/erm-mfm\",\n",
    "                                \"https://feeds.megaphone.fm/VMP7924981569\",\n",
    "                                \"https://www.omnycontent.com/d/playlist/d83f52e4-2455-47f4-982e-ab790120b954/82e70870-d45e-4b4c-8e17-ab8600091b59/e20bfe1d-24c8-4809-b7b0-ab8600091b62/podcast.rss\",\n",
    "                                \"https://feeds.megaphone.fm/darknetdiaries\",\n",
    "                                \"https://feeds.simplecast.com/GdzgJRQH\",\n",
    "                                \"https://feeds.simplecast.com/xl36XBC2\",\n",
    "                                \"https://rss.art19.com/dr-death\",\n",
    "                                \"https://podcastfeeds.nbcnews.com/HL4TzgYC\"],\n",
    "                'science' : [\"https://feeds.simplecast.com/FO6kxYGj\",\n",
    "                                \"http://feeds.feedburner.com/radiolab\",\n",
    "                                \"https://media.rss.com/fm/feed.xml\",\n",
    "                                \"https://omnycontent.com/d/playlist/e73c998e-6e60-432f-8610-ae210140c5b1/6EA152C0-9E3A-45DE-8672-AE2F0056B113/D8936746-9E22-4DBA-B762-AE2F0056B126/podcast.rss\",\n",
    "                                \"https://www.thenakedscientists.com/naked_scientists_podcast.xml\"],\n",
    "                'sport' : [\"https://media.rss.com/progressivepodcast/feed.xml\",\n",
    "                                \"https://media.rss.com/wholeninesports/feed.xml\",\n",
    "                                \"https://media.rss.com/moodysportswithdanandzach/feed.xml\",\n",
    "                                \"https://media.rss.com/thejosephvorepodcast/feed.xml\",\n",
    "                                \"https://media.rss.com/wholeshabang/feed.xml\",\n",
    "                                \"https://mcsorleys.barstoolsports.com/feed/pardon-my-take\",\n",
    "                                \"https://feeds.megaphone.fm/ESP2298543312\",\n",
    "                                \"https://feeds.megaphone.fm/ESP3500611186\",\n",
    "                                \"https://feeds.megaphone.fm/ESP3025643506\"]}\n",
    "\n",
    "a_ps = AdvancedParser('2022-10-01', '2022-11-01', topic_urls_dict)"
   ]
  },
  {
   "cell_type": "code",
   "execution_count": 11,
   "metadata": {},
   "outputs": [],
   "source": [
    "# all_pc_df = a_ps.gather_data()\n",
    "# This is saving off the data\n",
    "# all_pc_df.to_pickle('all_podcast_info.pkl')\n",
    "\n",
    "# Ingesting the pkl file\n",
    "all_pc_df = pd.read_pickle('all_podcast_info.pkl')\n",
    "\n",
    "# Getting rid of rows where summary is not populated\n",
    "all_pc_df.dropna(inplace=True)\n",
    "all_pc_df.reset_index(inplace=True, drop=True)"
   ]
  },
  {
   "cell_type": "code",
   "execution_count": 12,
   "metadata": {},
   "outputs": [
    {
     "data": {
      "text/html": [
       "<div>\n",
       "<style scoped>\n",
       "    .dataframe tbody tr th:only-of-type {\n",
       "        vertical-align: middle;\n",
       "    }\n",
       "\n",
       "    .dataframe tbody tr th {\n",
       "        vertical-align: top;\n",
       "    }\n",
       "\n",
       "    .dataframe thead th {\n",
       "        text-align: right;\n",
       "    }\n",
       "</style>\n",
       "<table border=\"1\" class=\"dataframe\">\n",
       "  <thead>\n",
       "    <tr style=\"text-align: right;\">\n",
       "      <th></th>\n",
       "      <th>published_parsed</th>\n",
       "      <th>id</th>\n",
       "      <th>links</th>\n",
       "      <th>summary</th>\n",
       "      <th>title</th>\n",
       "      <th>summary_detail</th>\n",
       "      <th>title_detail</th>\n",
       "      <th>published</th>\n",
       "      <th>guidislink</th>\n",
       "    </tr>\n",
       "    <tr>\n",
       "      <th>topic</th>\n",
       "      <th></th>\n",
       "      <th></th>\n",
       "      <th></th>\n",
       "      <th></th>\n",
       "      <th></th>\n",
       "      <th></th>\n",
       "      <th></th>\n",
       "      <th></th>\n",
       "      <th></th>\n",
       "    </tr>\n",
       "  </thead>\n",
       "  <tbody>\n",
       "    <tr>\n",
       "      <th>crime</th>\n",
       "      <td>2424</td>\n",
       "      <td>2424</td>\n",
       "      <td>2424</td>\n",
       "      <td>2424</td>\n",
       "      <td>2424</td>\n",
       "      <td>2424</td>\n",
       "      <td>2424</td>\n",
       "      <td>2424</td>\n",
       "      <td>2424</td>\n",
       "    </tr>\n",
       "    <tr>\n",
       "      <th>news</th>\n",
       "      <td>2169</td>\n",
       "      <td>2169</td>\n",
       "      <td>2169</td>\n",
       "      <td>2169</td>\n",
       "      <td>2169</td>\n",
       "      <td>2169</td>\n",
       "      <td>2169</td>\n",
       "      <td>2169</td>\n",
       "      <td>2169</td>\n",
       "    </tr>\n",
       "    <tr>\n",
       "      <th>science</th>\n",
       "      <td>3357</td>\n",
       "      <td>3357</td>\n",
       "      <td>3357</td>\n",
       "      <td>3357</td>\n",
       "      <td>3357</td>\n",
       "      <td>3357</td>\n",
       "      <td>3357</td>\n",
       "      <td>3357</td>\n",
       "      <td>3357</td>\n",
       "    </tr>\n",
       "    <tr>\n",
       "      <th>sport</th>\n",
       "      <td>2553</td>\n",
       "      <td>2553</td>\n",
       "      <td>2553</td>\n",
       "      <td>2553</td>\n",
       "      <td>2553</td>\n",
       "      <td>2553</td>\n",
       "      <td>2553</td>\n",
       "      <td>2553</td>\n",
       "      <td>2553</td>\n",
       "    </tr>\n",
       "  </tbody>\n",
       "</table>\n",
       "</div>"
      ],
      "text/plain": [
       "         published_parsed    id  links  summary  title  summary_detail  \\\n",
       "topic                                                                    \n",
       "crime                2424  2424   2424     2424   2424            2424   \n",
       "news                 2169  2169   2169     2169   2169            2169   \n",
       "science              3357  3357   3357     3357   3357            3357   \n",
       "sport                2553  2553   2553     2553   2553            2553   \n",
       "\n",
       "         title_detail  published  guidislink  \n",
       "topic                                         \n",
       "crime            2424       2424        2424  \n",
       "news             2169       2169        2169  \n",
       "science          3357       3357        3357  \n",
       "sport            2553       2553        2553  "
      ]
     },
     "execution_count": 12,
     "metadata": {},
     "output_type": "execute_result"
    }
   ],
   "source": [
    "#Checking to see if my data is evenly spread\n",
    "all_pc_df.groupby('topic').count()"
   ]
  },
  {
   "cell_type": "code",
   "execution_count": 13,
   "metadata": {},
   "outputs": [],
   "source": [
    "# Since the amount for each topic is not the same, I want to balance this to not influence the model. \n",
    "all_topics_list = []\n",
    "for topic, count in all_pc_df.topic.value_counts().to_dict().items():\n",
    "    all_topics_list.append(all_pc_df[all_pc_df['topic'] == topic])\n",
    "\n",
    "# Grabbing the small amount to use as our sample amount for down sampling\n",
    "smallest_topic_amount = min(all_pc_df.topic.value_counts().to_dict().values())\n",
    "\n",
    "# This is where we will down sampling our data\n",
    "temp_dfs = []\n",
    "for temp_df in all_topics_list:\n",
    "    temp_dfs.append(temp_df.sample(smallest_topic_amount))\n",
    "\n",
    "fitted_df = pd.concat(temp_dfs)"
   ]
  },
  {
   "cell_type": "code",
   "execution_count": 14,
   "metadata": {},
   "outputs": [
    {
     "data": {
      "text/html": [
       "<div>\n",
       "<style scoped>\n",
       "    .dataframe tbody tr th:only-of-type {\n",
       "        vertical-align: middle;\n",
       "    }\n",
       "\n",
       "    .dataframe tbody tr th {\n",
       "        vertical-align: top;\n",
       "    }\n",
       "\n",
       "    .dataframe thead th {\n",
       "        text-align: right;\n",
       "    }\n",
       "</style>\n",
       "<table border=\"1\" class=\"dataframe\">\n",
       "  <thead>\n",
       "    <tr style=\"text-align: right;\">\n",
       "      <th></th>\n",
       "      <th>published_parsed</th>\n",
       "      <th>id</th>\n",
       "      <th>links</th>\n",
       "      <th>summary</th>\n",
       "      <th>title</th>\n",
       "      <th>summary_detail</th>\n",
       "      <th>title_detail</th>\n",
       "      <th>published</th>\n",
       "      <th>guidislink</th>\n",
       "    </tr>\n",
       "    <tr>\n",
       "      <th>topic</th>\n",
       "      <th></th>\n",
       "      <th></th>\n",
       "      <th></th>\n",
       "      <th></th>\n",
       "      <th></th>\n",
       "      <th></th>\n",
       "      <th></th>\n",
       "      <th></th>\n",
       "      <th></th>\n",
       "    </tr>\n",
       "  </thead>\n",
       "  <tbody>\n",
       "    <tr>\n",
       "      <th>crime</th>\n",
       "      <td>2169</td>\n",
       "      <td>2169</td>\n",
       "      <td>2169</td>\n",
       "      <td>2169</td>\n",
       "      <td>2169</td>\n",
       "      <td>2169</td>\n",
       "      <td>2169</td>\n",
       "      <td>2169</td>\n",
       "      <td>2169</td>\n",
       "    </tr>\n",
       "    <tr>\n",
       "      <th>news</th>\n",
       "      <td>2169</td>\n",
       "      <td>2169</td>\n",
       "      <td>2169</td>\n",
       "      <td>2169</td>\n",
       "      <td>2169</td>\n",
       "      <td>2169</td>\n",
       "      <td>2169</td>\n",
       "      <td>2169</td>\n",
       "      <td>2169</td>\n",
       "    </tr>\n",
       "    <tr>\n",
       "      <th>science</th>\n",
       "      <td>2169</td>\n",
       "      <td>2169</td>\n",
       "      <td>2169</td>\n",
       "      <td>2169</td>\n",
       "      <td>2169</td>\n",
       "      <td>2169</td>\n",
       "      <td>2169</td>\n",
       "      <td>2169</td>\n",
       "      <td>2169</td>\n",
       "    </tr>\n",
       "    <tr>\n",
       "      <th>sport</th>\n",
       "      <td>2169</td>\n",
       "      <td>2169</td>\n",
       "      <td>2169</td>\n",
       "      <td>2169</td>\n",
       "      <td>2169</td>\n",
       "      <td>2169</td>\n",
       "      <td>2169</td>\n",
       "      <td>2169</td>\n",
       "      <td>2169</td>\n",
       "    </tr>\n",
       "  </tbody>\n",
       "</table>\n",
       "</div>"
      ],
      "text/plain": [
       "         published_parsed    id  links  summary  title  summary_detail  \\\n",
       "topic                                                                    \n",
       "crime                2169  2169   2169     2169   2169            2169   \n",
       "news                 2169  2169   2169     2169   2169            2169   \n",
       "science              2169  2169   2169     2169   2169            2169   \n",
       "sport                2169  2169   2169     2169   2169            2169   \n",
       "\n",
       "         title_detail  published  guidislink  \n",
       "topic                                         \n",
       "crime            2169       2169        2169  \n",
       "news             2169       2169        2169  \n",
       "science          2169       2169        2169  \n",
       "sport            2169       2169        2169  "
      ]
     },
     "execution_count": 14,
     "metadata": {},
     "output_type": "execute_result"
    }
   ],
   "source": [
    "#Checking to see if my data is evenly spread\n",
    "fitted_df.groupby('topic').count()"
   ]
  },
  {
   "cell_type": "code",
   "execution_count": 15,
   "metadata": {},
   "outputs": [],
   "source": [
    "# Keep target (topic) and ntext\n",
    "cols_to_keep = ['topic', 'summary']\n",
    "train_df = fitted_df[cols_to_keep].copy()"
   ]
  },
  {
   "cell_type": "code",
   "execution_count": 16,
   "metadata": {},
   "outputs": [
    {
     "data": {
      "text/html": [
       "<div>\n",
       "<style scoped>\n",
       "    .dataframe tbody tr th:only-of-type {\n",
       "        vertical-align: middle;\n",
       "    }\n",
       "\n",
       "    .dataframe tbody tr th {\n",
       "        vertical-align: top;\n",
       "    }\n",
       "\n",
       "    .dataframe thead th {\n",
       "        text-align: right;\n",
       "    }\n",
       "</style>\n",
       "<table border=\"1\" class=\"dataframe\">\n",
       "  <thead>\n",
       "    <tr style=\"text-align: right;\">\n",
       "      <th></th>\n",
       "      <th>topic</th>\n",
       "      <th>summary</th>\n",
       "      <th>clean_summary</th>\n",
       "    </tr>\n",
       "  </thead>\n",
       "  <tbody>\n",
       "    <tr>\n",
       "      <th>1150</th>\n",
       "      <td>news</td>\n",
       "      <td>In Hong Kong, hundreds of thousands remain in ...</td>\n",
       "      <td>in hong kong hundreds of thousands remain in t...</td>\n",
       "    </tr>\n",
       "    <tr>\n",
       "      <th>214</th>\n",
       "      <td>news</td>\n",
       "      <td>While coming rulings on abortion and guns have...</td>\n",
       "      <td>while coming rulings on abortion and guns have...</td>\n",
       "    </tr>\n",
       "    <tr>\n",
       "      <th>2111</th>\n",
       "      <td>news</td>\n",
       "      <td>As Russian soldiers continue to amass near the...</td>\n",
       "      <td>as russian soldiers continue to amass near the...</td>\n",
       "    </tr>\n",
       "    <tr>\n",
       "      <th>298</th>\n",
       "      <td>news</td>\n",
       "      <td>This episode details graphic scenes and contai...</td>\n",
       "      <td>this episode details graphic scenes and contai...</td>\n",
       "    </tr>\n",
       "    <tr>\n",
       "      <th>1042</th>\n",
       "      <td>news</td>\n",
       "      <td>The New York Times and Siena College conducted...</td>\n",
       "      <td>the new york times and siena college conducted...</td>\n",
       "    </tr>\n",
       "  </tbody>\n",
       "</table>\n",
       "</div>"
      ],
      "text/plain": [
       "     topic                                            summary  \\\n",
       "1150  news  In Hong Kong, hundreds of thousands remain in ...   \n",
       "214   news  While coming rulings on abortion and guns have...   \n",
       "2111  news  As Russian soldiers continue to amass near the...   \n",
       "298   news  This episode details graphic scenes and contai...   \n",
       "1042  news  The New York Times and Siena College conducted...   \n",
       "\n",
       "                                          clean_summary  \n",
       "1150  in hong kong hundreds of thousands remain in t...  \n",
       "214   while coming rulings on abortion and guns have...  \n",
       "2111  as russian soldiers continue to amass near the...  \n",
       "298   this episode details graphic scenes and contai...  \n",
       "1042  the new york times and siena college conducted...  "
      ]
     },
     "execution_count": 16,
     "metadata": {},
     "output_type": "execute_result"
    }
   ],
   "source": [
    "# This code was found on https://medium.com/p/f2fc1796e8c7\n",
    "#Lets normalize the data\n",
    "\n",
    "def  clean_text(df, text_field, new_text_field_name):\n",
    "    df[new_text_field_name] = df[text_field].str.lower()\n",
    "    df[new_text_field_name] = df[new_text_field_name].apply(lambda elem: re.sub(r\"(<.*?>)|(@[A-Za-z0-9]+)|([^0-9A-Za-z \\t])|(\\w+:\\/\\/\\S+)|^rt|http.+?\", \"\", elem))  \n",
    "    # remove numbers\n",
    "    df[new_text_field_name] = df[new_text_field_name].apply(lambda elem: re.sub(r\"\\d+\", \"\", elem))\n",
    "    \n",
    "    return df\n",
    "\n",
    "clean_df = clean_text(train_df, 'summary', 'clean_summary')\n",
    "clean_df.tail()"
   ]
  },
  {
   "cell_type": "code",
   "execution_count": 17,
   "metadata": {},
   "outputs": [
    {
     "data": {
      "text/html": [
       "<div>\n",
       "<style scoped>\n",
       "    .dataframe tbody tr th:only-of-type {\n",
       "        vertical-align: middle;\n",
       "    }\n",
       "\n",
       "    .dataframe tbody tr th {\n",
       "        vertical-align: top;\n",
       "    }\n",
       "\n",
       "    .dataframe thead th {\n",
       "        text-align: right;\n",
       "    }\n",
       "</style>\n",
       "<table border=\"1\" class=\"dataframe\">\n",
       "  <thead>\n",
       "    <tr style=\"text-align: right;\">\n",
       "      <th></th>\n",
       "      <th>topic</th>\n",
       "      <th>summary</th>\n",
       "      <th>clean_summary</th>\n",
       "    </tr>\n",
       "  </thead>\n",
       "  <tbody>\n",
       "    <tr>\n",
       "      <th>5957</th>\n",
       "      <td>science</td>\n",
       "      <td>&lt;p&gt;Yes, it's listener mail time once more, thi...</td>\n",
       "      <td>yes listener mail time time emails bummer soci...</td>\n",
       "    </tr>\n",
       "    <tr>\n",
       "      <th>6647</th>\n",
       "      <td>science</td>\n",
       "      <td>The Science of Smiles: Just try to resist the ...</td>\n",
       "      <td>science smiles try resist power human smile da...</td>\n",
       "    </tr>\n",
       "    <tr>\n",
       "      <th>6418</th>\n",
       "      <td>science</td>\n",
       "      <td>Do you believe there's a natural energy that p...</td>\n",
       "      <td>believe theres natural energy permeates univer...</td>\n",
       "    </tr>\n",
       "    <tr>\n",
       "      <th>6869</th>\n",
       "      <td>science</td>\n",
       "      <td>The next time your car breaks down, count the ...</td>\n",
       "      <td>next time car breaks count number vehicles pas...</td>\n",
       "    </tr>\n",
       "    <tr>\n",
       "      <th>6645</th>\n",
       "      <td>science</td>\n",
       "      <td>Urine For a Treat: A urine sample reveals a gr...</td>\n",
       "      <td>urine treat urine sample reveals great deal pe...</td>\n",
       "    </tr>\n",
       "  </tbody>\n",
       "</table>\n",
       "</div>"
      ],
      "text/plain": [
       "        topic                                            summary  \\\n",
       "5957  science  <p>Yes, it's listener mail time once more, thi...   \n",
       "6647  science  The Science of Smiles: Just try to resist the ...   \n",
       "6418  science  Do you believe there's a natural energy that p...   \n",
       "6869  science  The next time your car breaks down, count the ...   \n",
       "6645  science  Urine For a Treat: A urine sample reveals a gr...   \n",
       "\n",
       "                                          clean_summary  \n",
       "5957  yes listener mail time time emails bummer soci...  \n",
       "6647  science smiles try resist power human smile da...  \n",
       "6418  believe theres natural energy permeates univer...  \n",
       "6869  next time car breaks count number vehicles pas...  \n",
       "6645  urine treat urine sample reveals great deal pe...  "
      ]
     },
     "execution_count": 17,
     "metadata": {},
     "output_type": "execute_result"
    }
   ],
   "source": [
    "# getting rid of stop words\n",
    "\n",
    "clean_df['clean_summary'] = clean_df['clean_summary'].apply(lambda x: ' '.join([word for word in x.split() if word not in (stop)]))\n",
    "clean_df.head()"
   ]
  },
  {
   "cell_type": "code",
   "execution_count": 18,
   "metadata": {},
   "outputs": [
    {
     "data": {
      "text/html": [
       "<div>\n",
       "<style scoped>\n",
       "    .dataframe tbody tr th:only-of-type {\n",
       "        vertical-align: middle;\n",
       "    }\n",
       "\n",
       "    .dataframe tbody tr th {\n",
       "        vertical-align: top;\n",
       "    }\n",
       "\n",
       "    .dataframe thead th {\n",
       "        text-align: right;\n",
       "    }\n",
       "</style>\n",
       "<table border=\"1\" class=\"dataframe\">\n",
       "  <thead>\n",
       "    <tr style=\"text-align: right;\">\n",
       "      <th></th>\n",
       "      <th>topic</th>\n",
       "      <th>summary</th>\n",
       "      <th>clean_summary</th>\n",
       "      <th>summary_tokens</th>\n",
       "    </tr>\n",
       "  </thead>\n",
       "  <tbody>\n",
       "    <tr>\n",
       "      <th>5957</th>\n",
       "      <td>science</td>\n",
       "      <td>&lt;p&gt;Yes, it's listener mail time once more, thi...</td>\n",
       "      <td>yes listener mail time time emails bummer soci...</td>\n",
       "      <td>[yes, listener, mail, time, time, emails, bumm...</td>\n",
       "    </tr>\n",
       "    <tr>\n",
       "      <th>6647</th>\n",
       "      <td>science</td>\n",
       "      <td>The Science of Smiles: Just try to resist the ...</td>\n",
       "      <td>science smiles try resist power human smile da...</td>\n",
       "      <td>[science, smiles, try, resist, power, human, s...</td>\n",
       "    </tr>\n",
       "    <tr>\n",
       "      <th>6418</th>\n",
       "      <td>science</td>\n",
       "      <td>Do you believe there's a natural energy that p...</td>\n",
       "      <td>believe theres natural energy permeates univer...</td>\n",
       "      <td>[believe, theres, natural, energy, permeates, ...</td>\n",
       "    </tr>\n",
       "    <tr>\n",
       "      <th>6869</th>\n",
       "      <td>science</td>\n",
       "      <td>The next time your car breaks down, count the ...</td>\n",
       "      <td>next time car breaks count number vehicles pas...</td>\n",
       "      <td>[next, time, car, breaks, count, number, vehic...</td>\n",
       "    </tr>\n",
       "    <tr>\n",
       "      <th>6645</th>\n",
       "      <td>science</td>\n",
       "      <td>Urine For a Treat: A urine sample reveals a gr...</td>\n",
       "      <td>urine treat urine sample reveals great deal pe...</td>\n",
       "      <td>[urine, treat, urine, sample, reveals, great, ...</td>\n",
       "    </tr>\n",
       "  </tbody>\n",
       "</table>\n",
       "</div>"
      ],
      "text/plain": [
       "        topic                                            summary  \\\n",
       "5957  science  <p>Yes, it's listener mail time once more, thi...   \n",
       "6647  science  The Science of Smiles: Just try to resist the ...   \n",
       "6418  science  Do you believe there's a natural energy that p...   \n",
       "6869  science  The next time your car breaks down, count the ...   \n",
       "6645  science  Urine For a Treat: A urine sample reveals a gr...   \n",
       "\n",
       "                                          clean_summary  \\\n",
       "5957  yes listener mail time time emails bummer soci...   \n",
       "6647  science smiles try resist power human smile da...   \n",
       "6418  believe theres natural energy permeates univer...   \n",
       "6869  next time car breaks count number vehicles pas...   \n",
       "6645  urine treat urine sample reveals great deal pe...   \n",
       "\n",
       "                                         summary_tokens  \n",
       "5957  [yes, listener, mail, time, time, emails, bumm...  \n",
       "6647  [science, smiles, try, resist, power, human, s...  \n",
       "6418  [believe, theres, natural, energy, permeates, ...  \n",
       "6869  [next, time, car, breaks, count, number, vehic...  \n",
       "6645  [urine, treat, urine, sample, reveals, great, ...  "
      ]
     },
     "execution_count": 18,
     "metadata": {},
     "output_type": "execute_result"
    }
   ],
   "source": [
    "# tokenize the summaries\n",
    "\n",
    "clean_df['summary_tokens'] = clean_df['clean_summary'].apply(lambda x: word_tokenize(x))\n",
    "clean_df.head()"
   ]
  },
  {
   "cell_type": "code",
   "execution_count": 19,
   "metadata": {},
   "outputs": [
    {
     "data": {
      "text/html": [
       "<div>\n",
       "<style scoped>\n",
       "    .dataframe tbody tr th:only-of-type {\n",
       "        vertical-align: middle;\n",
       "    }\n",
       "\n",
       "    .dataframe tbody tr th {\n",
       "        vertical-align: top;\n",
       "    }\n",
       "\n",
       "    .dataframe thead th {\n",
       "        text-align: right;\n",
       "    }\n",
       "</style>\n",
       "<table border=\"1\" class=\"dataframe\">\n",
       "  <thead>\n",
       "    <tr style=\"text-align: right;\">\n",
       "      <th></th>\n",
       "      <th>topic</th>\n",
       "      <th>summary</th>\n",
       "      <th>clean_summary</th>\n",
       "      <th>summary_tokens</th>\n",
       "      <th>summary_tokens_stem</th>\n",
       "    </tr>\n",
       "  </thead>\n",
       "  <tbody>\n",
       "    <tr>\n",
       "      <th>5957</th>\n",
       "      <td>science</td>\n",
       "      <td>&lt;p&gt;Yes, it's listener mail time once more, thi...</td>\n",
       "      <td>yes listener mail time time emails bummer soci...</td>\n",
       "      <td>[yes, listener, mail, time, time, emails, bumm...</td>\n",
       "      <td>[ye, listen, mail, time, time, email, bummer, ...</td>\n",
       "    </tr>\n",
       "    <tr>\n",
       "      <th>6647</th>\n",
       "      <td>science</td>\n",
       "      <td>The Science of Smiles: Just try to resist the ...</td>\n",
       "      <td>science smiles try resist power human smile da...</td>\n",
       "      <td>[science, smiles, try, resist, power, human, s...</td>\n",
       "      <td>[scienc, smile, tri, resist, power, human, smi...</td>\n",
       "    </tr>\n",
       "    <tr>\n",
       "      <th>6418</th>\n",
       "      <td>science</td>\n",
       "      <td>Do you believe there's a natural energy that p...</td>\n",
       "      <td>believe theres natural energy permeates univer...</td>\n",
       "      <td>[believe, theres, natural, energy, permeates, ...</td>\n",
       "      <td>[believ, there, natur, energi, permeat, univer...</td>\n",
       "    </tr>\n",
       "    <tr>\n",
       "      <th>6869</th>\n",
       "      <td>science</td>\n",
       "      <td>The next time your car breaks down, count the ...</td>\n",
       "      <td>next time car breaks count number vehicles pas...</td>\n",
       "      <td>[next, time, car, breaks, count, number, vehic...</td>\n",
       "      <td>[next, time, car, break, count, number, vehicl...</td>\n",
       "    </tr>\n",
       "    <tr>\n",
       "      <th>6645</th>\n",
       "      <td>science</td>\n",
       "      <td>Urine For a Treat: A urine sample reveals a gr...</td>\n",
       "      <td>urine treat urine sample reveals great deal pe...</td>\n",
       "      <td>[urine, treat, urine, sample, reveals, great, ...</td>\n",
       "      <td>[urin, treat, urin, sampl, reveal, great, deal...</td>\n",
       "    </tr>\n",
       "  </tbody>\n",
       "</table>\n",
       "</div>"
      ],
      "text/plain": [
       "        topic                                            summary  \\\n",
       "5957  science  <p>Yes, it's listener mail time once more, thi...   \n",
       "6647  science  The Science of Smiles: Just try to resist the ...   \n",
       "6418  science  Do you believe there's a natural energy that p...   \n",
       "6869  science  The next time your car breaks down, count the ...   \n",
       "6645  science  Urine For a Treat: A urine sample reveals a gr...   \n",
       "\n",
       "                                          clean_summary  \\\n",
       "5957  yes listener mail time time emails bummer soci...   \n",
       "6647  science smiles try resist power human smile da...   \n",
       "6418  believe theres natural energy permeates univer...   \n",
       "6869  next time car breaks count number vehicles pas...   \n",
       "6645  urine treat urine sample reveals great deal pe...   \n",
       "\n",
       "                                         summary_tokens  \\\n",
       "5957  [yes, listener, mail, time, time, emails, bumm...   \n",
       "6647  [science, smiles, try, resist, power, human, s...   \n",
       "6418  [believe, theres, natural, energy, permeates, ...   \n",
       "6869  [next, time, car, breaks, count, number, vehic...   \n",
       "6645  [urine, treat, urine, sample, reveals, great, ...   \n",
       "\n",
       "                                    summary_tokens_stem  \n",
       "5957  [ye, listen, mail, time, time, email, bummer, ...  \n",
       "6647  [scienc, smile, tri, resist, power, human, smi...  \n",
       "6418  [believ, there, natur, energi, permeat, univer...  \n",
       "6869  [next, time, car, break, count, number, vehicl...  \n",
       "6645  [urin, treat, urin, sampl, reveal, great, deal...  "
      ]
     },
     "execution_count": 19,
     "metadata": {},
     "output_type": "execute_result"
    }
   ],
   "source": [
    "# Stemming the summary words\n",
    "\n",
    "def word_stemmer(text):\n",
    "    stem_text = [PorterStemmer().stem(i) for i in text]\n",
    "    return stem_text\n",
    "\n",
    "clean_df['summary_tokens_stem'] = clean_df['summary_tokens'].apply(lambda x: word_stemmer(x))\n",
    "clean_df.head()"
   ]
  },
  {
   "cell_type": "code",
   "execution_count": 20,
   "metadata": {},
   "outputs": [
    {
     "data": {
      "text/html": [
       "<div>\n",
       "<style scoped>\n",
       "    .dataframe tbody tr th:only-of-type {\n",
       "        vertical-align: middle;\n",
       "    }\n",
       "\n",
       "    .dataframe tbody tr th {\n",
       "        vertical-align: top;\n",
       "    }\n",
       "\n",
       "    .dataframe thead th {\n",
       "        text-align: right;\n",
       "    }\n",
       "</style>\n",
       "<table border=\"1\" class=\"dataframe\">\n",
       "  <thead>\n",
       "    <tr style=\"text-align: right;\">\n",
       "      <th></th>\n",
       "      <th>topic</th>\n",
       "      <th>summary</th>\n",
       "      <th>clean_summary</th>\n",
       "      <th>summary_tokens</th>\n",
       "      <th>summary_tokens_stem</th>\n",
       "      <th>summary_tokens_lemma</th>\n",
       "    </tr>\n",
       "  </thead>\n",
       "  <tbody>\n",
       "    <tr>\n",
       "      <th>5957</th>\n",
       "      <td>science</td>\n",
       "      <td>&lt;p&gt;Yes, it's listener mail time once more, thi...</td>\n",
       "      <td>yes listener mail time time emails bummer soci...</td>\n",
       "      <td>[yes, listener, mail, time, time, emails, bumm...</td>\n",
       "      <td>[ye, listen, mail, time, time, email, bummer, ...</td>\n",
       "      <td>[yes, listener, mail, time, time, email, bumme...</td>\n",
       "    </tr>\n",
       "    <tr>\n",
       "      <th>6647</th>\n",
       "      <td>science</td>\n",
       "      <td>The Science of Smiles: Just try to resist the ...</td>\n",
       "      <td>science smiles try resist power human smile da...</td>\n",
       "      <td>[science, smiles, try, resist, power, human, s...</td>\n",
       "      <td>[scienc, smile, tri, resist, power, human, smi...</td>\n",
       "      <td>[science, smile, try, resist, power, human, sm...</td>\n",
       "    </tr>\n",
       "    <tr>\n",
       "      <th>6418</th>\n",
       "      <td>science</td>\n",
       "      <td>Do you believe there's a natural energy that p...</td>\n",
       "      <td>believe theres natural energy permeates univer...</td>\n",
       "      <td>[believe, theres, natural, energy, permeates, ...</td>\n",
       "      <td>[believ, there, natur, energi, permeat, univer...</td>\n",
       "      <td>[believe, there, natural, energy, permeates, u...</td>\n",
       "    </tr>\n",
       "    <tr>\n",
       "      <th>6869</th>\n",
       "      <td>science</td>\n",
       "      <td>The next time your car breaks down, count the ...</td>\n",
       "      <td>next time car breaks count number vehicles pas...</td>\n",
       "      <td>[next, time, car, breaks, count, number, vehic...</td>\n",
       "      <td>[next, time, car, break, count, number, vehicl...</td>\n",
       "      <td>[next, time, car, break, count, number, vehicl...</td>\n",
       "    </tr>\n",
       "    <tr>\n",
       "      <th>6645</th>\n",
       "      <td>science</td>\n",
       "      <td>Urine For a Treat: A urine sample reveals a gr...</td>\n",
       "      <td>urine treat urine sample reveals great deal pe...</td>\n",
       "      <td>[urine, treat, urine, sample, reveals, great, ...</td>\n",
       "      <td>[urin, treat, urin, sampl, reveal, great, deal...</td>\n",
       "      <td>[urine, treat, urine, sample, reveals, great, ...</td>\n",
       "    </tr>\n",
       "  </tbody>\n",
       "</table>\n",
       "</div>"
      ],
      "text/plain": [
       "        topic                                            summary  \\\n",
       "5957  science  <p>Yes, it's listener mail time once more, thi...   \n",
       "6647  science  The Science of Smiles: Just try to resist the ...   \n",
       "6418  science  Do you believe there's a natural energy that p...   \n",
       "6869  science  The next time your car breaks down, count the ...   \n",
       "6645  science  Urine For a Treat: A urine sample reveals a gr...   \n",
       "\n",
       "                                          clean_summary  \\\n",
       "5957  yes listener mail time time emails bummer soci...   \n",
       "6647  science smiles try resist power human smile da...   \n",
       "6418  believe theres natural energy permeates univer...   \n",
       "6869  next time car breaks count number vehicles pas...   \n",
       "6645  urine treat urine sample reveals great deal pe...   \n",
       "\n",
       "                                         summary_tokens  \\\n",
       "5957  [yes, listener, mail, time, time, emails, bumm...   \n",
       "6647  [science, smiles, try, resist, power, human, s...   \n",
       "6418  [believe, theres, natural, energy, permeates, ...   \n",
       "6869  [next, time, car, breaks, count, number, vehic...   \n",
       "6645  [urine, treat, urine, sample, reveals, great, ...   \n",
       "\n",
       "                                    summary_tokens_stem  \\\n",
       "5957  [ye, listen, mail, time, time, email, bummer, ...   \n",
       "6647  [scienc, smile, tri, resist, power, human, smi...   \n",
       "6418  [believ, there, natur, energi, permeat, univer...   \n",
       "6869  [next, time, car, break, count, number, vehicl...   \n",
       "6645  [urin, treat, urin, sampl, reveal, great, deal...   \n",
       "\n",
       "                                   summary_tokens_lemma  \n",
       "5957  [yes, listener, mail, time, time, email, bumme...  \n",
       "6647  [science, smile, try, resist, power, human, sm...  \n",
       "6418  [believe, there, natural, energy, permeates, u...  \n",
       "6869  [next, time, car, break, count, number, vehicl...  \n",
       "6645  [urine, treat, urine, sample, reveals, great, ...  "
      ]
     },
     "execution_count": 20,
     "metadata": {},
     "output_type": "execute_result"
    }
   ],
   "source": [
    "# Lemmatize the summary words\n",
    "\n",
    "def word_lemmatizer(text):\n",
    "    lem_text = [WordNetLemmatizer().lemmatize(i) for i in text]\n",
    "    return lem_text\n",
    "\n",
    "clean_df['summary_tokens_lemma'] = clean_df['summary_tokens'].apply(lambda x: word_lemmatizer(x))\n",
    "clean_df.head()"
   ]
  },
  {
   "cell_type": "code",
   "execution_count": 21,
   "metadata": {},
   "outputs": [
    {
     "data": {
      "text/html": [
       "<div>\n",
       "<style scoped>\n",
       "    .dataframe tbody tr th:only-of-type {\n",
       "        vertical-align: middle;\n",
       "    }\n",
       "\n",
       "    .dataframe tbody tr th {\n",
       "        vertical-align: top;\n",
       "    }\n",
       "\n",
       "    .dataframe thead th {\n",
       "        text-align: right;\n",
       "    }\n",
       "</style>\n",
       "<table border=\"1\" class=\"dataframe\">\n",
       "  <thead>\n",
       "    <tr style=\"text-align: right;\">\n",
       "      <th></th>\n",
       "      <th>topic</th>\n",
       "      <th>summary</th>\n",
       "      <th>clean_summary</th>\n",
       "      <th>summary_tokens</th>\n",
       "      <th>summary_tokens_stem</th>\n",
       "      <th>summary_tokens_lemma</th>\n",
       "      <th>summary_tokens_pos_tagged</th>\n",
       "    </tr>\n",
       "  </thead>\n",
       "  <tbody>\n",
       "    <tr>\n",
       "      <th>5957</th>\n",
       "      <td>science</td>\n",
       "      <td>&lt;p&gt;Yes, it's listener mail time once more, thi...</td>\n",
       "      <td>yes listener mail time time emails bummer soci...</td>\n",
       "      <td>[yes, listener, mail, time, time, emails, bumm...</td>\n",
       "      <td>[ye, listen, mail, time, time, email, bummer, ...</td>\n",
       "      <td>[yes, listener, mail, time, time, email, bumme...</td>\n",
       "      <td>[(yes, UH), (listener, JJR), (mail, NN), (time...</td>\n",
       "    </tr>\n",
       "    <tr>\n",
       "      <th>6647</th>\n",
       "      <td>science</td>\n",
       "      <td>The Science of Smiles: Just try to resist the ...</td>\n",
       "      <td>science smiles try resist power human smile da...</td>\n",
       "      <td>[science, smiles, try, resist, power, human, s...</td>\n",
       "      <td>[scienc, smile, tri, resist, power, human, smi...</td>\n",
       "      <td>[science, smile, try, resist, power, human, sm...</td>\n",
       "      <td>[(science, NN), (smiles, NNS), (try, VBP), (re...</td>\n",
       "    </tr>\n",
       "    <tr>\n",
       "      <th>6418</th>\n",
       "      <td>science</td>\n",
       "      <td>Do you believe there's a natural energy that p...</td>\n",
       "      <td>believe theres natural energy permeates univer...</td>\n",
       "      <td>[believe, theres, natural, energy, permeates, ...</td>\n",
       "      <td>[believ, there, natur, energi, permeat, univer...</td>\n",
       "      <td>[believe, there, natural, energy, permeates, u...</td>\n",
       "      <td>[(believe, NN), (theres, VBZ), (natural, JJ), ...</td>\n",
       "    </tr>\n",
       "    <tr>\n",
       "      <th>6869</th>\n",
       "      <td>science</td>\n",
       "      <td>The next time your car breaks down, count the ...</td>\n",
       "      <td>next time car breaks count number vehicles pas...</td>\n",
       "      <td>[next, time, car, breaks, count, number, vehic...</td>\n",
       "      <td>[next, time, car, break, count, number, vehicl...</td>\n",
       "      <td>[next, time, car, break, count, number, vehicl...</td>\n",
       "      <td>[(next, JJ), (time, NN), (car, NN), (breaks, N...</td>\n",
       "    </tr>\n",
       "    <tr>\n",
       "      <th>6645</th>\n",
       "      <td>science</td>\n",
       "      <td>Urine For a Treat: A urine sample reveals a gr...</td>\n",
       "      <td>urine treat urine sample reveals great deal pe...</td>\n",
       "      <td>[urine, treat, urine, sample, reveals, great, ...</td>\n",
       "      <td>[urin, treat, urin, sampl, reveal, great, deal...</td>\n",
       "      <td>[urine, treat, urine, sample, reveals, great, ...</td>\n",
       "      <td>[(urine, JJ), (treat, NN), (urine, JJ), (sampl...</td>\n",
       "    </tr>\n",
       "  </tbody>\n",
       "</table>\n",
       "</div>"
      ],
      "text/plain": [
       "        topic                                            summary  \\\n",
       "5957  science  <p>Yes, it's listener mail time once more, thi...   \n",
       "6647  science  The Science of Smiles: Just try to resist the ...   \n",
       "6418  science  Do you believe there's a natural energy that p...   \n",
       "6869  science  The next time your car breaks down, count the ...   \n",
       "6645  science  Urine For a Treat: A urine sample reveals a gr...   \n",
       "\n",
       "                                          clean_summary  \\\n",
       "5957  yes listener mail time time emails bummer soci...   \n",
       "6647  science smiles try resist power human smile da...   \n",
       "6418  believe theres natural energy permeates univer...   \n",
       "6869  next time car breaks count number vehicles pas...   \n",
       "6645  urine treat urine sample reveals great deal pe...   \n",
       "\n",
       "                                         summary_tokens  \\\n",
       "5957  [yes, listener, mail, time, time, emails, bumm...   \n",
       "6647  [science, smiles, try, resist, power, human, s...   \n",
       "6418  [believe, theres, natural, energy, permeates, ...   \n",
       "6869  [next, time, car, breaks, count, number, vehic...   \n",
       "6645  [urine, treat, urine, sample, reveals, great, ...   \n",
       "\n",
       "                                    summary_tokens_stem  \\\n",
       "5957  [ye, listen, mail, time, time, email, bummer, ...   \n",
       "6647  [scienc, smile, tri, resist, power, human, smi...   \n",
       "6418  [believ, there, natur, energi, permeat, univer...   \n",
       "6869  [next, time, car, break, count, number, vehicl...   \n",
       "6645  [urin, treat, urin, sampl, reveal, great, deal...   \n",
       "\n",
       "                                   summary_tokens_lemma  \\\n",
       "5957  [yes, listener, mail, time, time, email, bumme...   \n",
       "6647  [science, smile, try, resist, power, human, sm...   \n",
       "6418  [believe, there, natural, energy, permeates, u...   \n",
       "6869  [next, time, car, break, count, number, vehicl...   \n",
       "6645  [urine, treat, urine, sample, reveals, great, ...   \n",
       "\n",
       "                              summary_tokens_pos_tagged  \n",
       "5957  [(yes, UH), (listener, JJR), (mail, NN), (time...  \n",
       "6647  [(science, NN), (smiles, NNS), (try, VBP), (re...  \n",
       "6418  [(believe, NN), (theres, VBZ), (natural, JJ), ...  \n",
       "6869  [(next, JJ), (time, NN), (car, NN), (breaks, N...  \n",
       "6645  [(urine, JJ), (treat, NN), (urine, JJ), (sampl...  "
      ]
     },
     "execution_count": 21,
     "metadata": {},
     "output_type": "execute_result"
    }
   ],
   "source": [
    "# This is performing Part of Speech tagging\n",
    "def word_pos_tagger(text):\n",
    "    pos_tagged_text = nltk.pos_tag(text)\n",
    "    return pos_tagged_text\n",
    "\n",
    "clean_df['summary_tokens_pos_tagged'] = clean_df['summary_tokens'].apply(lambda x: word_pos_tagger(x))\n",
    "clean_df.head()"
   ]
  },
  {
   "cell_type": "code",
   "execution_count": 22,
   "metadata": {},
   "outputs": [],
   "source": [
    "# also need to map topics to nums (targets)\n",
    "topics = clean_df.topic.unique().tolist()\n",
    "topic_map = dict(zip(topics, list(range(0, len(topics)))))\n",
    "inverse_topic_map = dict(zip(list(range(0, len(topics))), topics))\n",
    "clean_df['topic_num'] = clean_df['topic'].apply(lambda x: topic_map.get(x))"
   ]
  },
  {
   "cell_type": "code",
   "execution_count": 23,
   "metadata": {},
   "outputs": [],
   "source": [
    "# Used https://towardsdatascience.com/how-to-enter-your-first-kaggle-competition-4717e7b232db as resource\n",
    "# Splitting our data to test and train and creating a model\n",
    "X_train, X_test, y_train, y_test = train_test_split(clean_df['clean_summary'],clean_df['topic_num'],random_state = 0)\n",
    "\n",
    "# This is good practice to keep things standardized\n",
    "pipeline_sgd = Pipeline([\n",
    "    ('vect', CountVectorizer()),\n",
    "    ('tfidf',  TfidfTransformer()),\n",
    "    ('nb', LogisticRegression()),\n",
    "])\n",
    "model = pipeline_sgd.fit(X_train, y_train)"
   ]
  },
  {
   "cell_type": "code",
   "execution_count": 24,
   "metadata": {},
   "outputs": [
    {
     "name": "stdout",
     "output_type": "stream",
     "text": [
      "              precision    recall  f1-score   support\n",
      "\n",
      "           0       0.98      0.98      0.98       537\n",
      "           1       1.00      0.97      0.99       563\n",
      "           2       0.97      0.97      0.97       543\n",
      "           3       0.95      0.98      0.96       526\n",
      "\n",
      "    accuracy                           0.98      2169\n",
      "   macro avg       0.98      0.98      0.98      2169\n",
      "weighted avg       0.98      0.98      0.98      2169\n",
      "\n"
     ]
    }
   ],
   "source": [
    "y_predict = model.predict(X_test)\n",
    "print(classification_report(y_test, y_predict))"
   ]
  },
  {
   "cell_type": "code",
   "execution_count": 25,
   "metadata": {},
   "outputs": [],
   "source": [
    "# Let's bring in different podcasts to test our model more\n",
    "\n",
    "test_topic_urls_dict = {\n",
    "                        'news' : [\"https://feeds.megaphone.fm/slatesthegist\"],\n",
    "                        'crime' : [\"https://audioboom.com/channels/4940872.rss\",\n",
    "                                \"https://rss.art19.com/generation-why-podcast\"],\n",
    "                        'science' : [\"https://feed.theskepticsguide.org/feed/rss.aspx?feed=sgu\"], \n",
    "                        'sport' : [\"https://feeds.megaphone.fm/ESP4820632502\"]\n",
    "}\n",
    "test_parse = AdvancedParser('2022-10-01', '2022-11-01', test_topic_urls_dict)\n",
    "test_df = test_parse.gather_data()"
   ]
  },
  {
   "cell_type": "code",
   "execution_count": 26,
   "metadata": {},
   "outputs": [],
   "source": [
    "# map topics to nums (targets)\n",
    "test_df['topic_num'] = test_df['topic'].apply(lambda x: topic_map.get(x))"
   ]
  },
  {
   "cell_type": "code",
   "execution_count": 48,
   "metadata": {},
   "outputs": [
    {
     "data": {
      "text/html": [
       "<div>\n",
       "<style scoped>\n",
       "    .dataframe tbody tr th:only-of-type {\n",
       "        vertical-align: middle;\n",
       "    }\n",
       "\n",
       "    .dataframe tbody tr th {\n",
       "        vertical-align: top;\n",
       "    }\n",
       "\n",
       "    .dataframe thead th {\n",
       "        text-align: right;\n",
       "    }\n",
       "</style>\n",
       "<table border=\"1\" class=\"dataframe\">\n",
       "  <thead>\n",
       "    <tr style=\"text-align: right;\">\n",
       "      <th></th>\n",
       "      <th>published_parsed</th>\n",
       "      <th>id</th>\n",
       "      <th>links</th>\n",
       "      <th>summary</th>\n",
       "      <th>title</th>\n",
       "      <th>summary_detail</th>\n",
       "      <th>title_detail</th>\n",
       "      <th>published</th>\n",
       "      <th>guidislink</th>\n",
       "      <th>topic</th>\n",
       "      <th>topic_num</th>\n",
       "      <th>summary_clean</th>\n",
       "    </tr>\n",
       "  </thead>\n",
       "  <tbody>\n",
       "    <tr>\n",
       "      <th>0</th>\n",
       "      <td>(2022, 11, 16, 21, 56, 41, 2, 320, 0)</td>\n",
       "      <td>465e9b4e-4e2a-11ed-909a-0f2401518281</td>\n",
       "      <td>[{'length': '0', 'type': 'audio/mpeg', 'href':...</td>\n",
       "      <td>Gordon Sondland Ambassador EU, eventually led ...</td>\n",
       "      <td>Implicating Trump Under Oath</td>\n",
       "      <td>{'type': 'text/plain', 'language': None, 'base...</td>\n",
       "      <td>{'type': 'text/plain', 'language': None, 'base...</td>\n",
       "      <td>Wed, 16 Nov 2022 21:56:41 -0000</td>\n",
       "      <td>False</td>\n",
       "      <td>news</td>\n",
       "      <td>3</td>\n",
       "      <td>gordon sondland was ambassador to the eu which...</td>\n",
       "    </tr>\n",
       "    <tr>\n",
       "      <th>1</th>\n",
       "      <td>(2022, 11, 15, 22, 4, 15, 1, 319, 0)</td>\n",
       "      <td>46b09cc8-4e2a-11ed-909a-43b06a29fdea</td>\n",
       "      <td>[{'length': '0', 'type': 'audio/mpeg', 'href':...</td>\n",
       "      <td>Today test thesis Universal Basic Book Deal (U...</td>\n",
       "      <td>The Democratization Of The Book Deal</td>\n",
       "      <td>{'type': 'text/html', 'language': None, 'base'...</td>\n",
       "      <td>{'type': 'text/plain', 'language': None, 'base...</td>\n",
       "      <td>Tue, 15 Nov 2022 22:04:15 -0000</td>\n",
       "      <td>False</td>\n",
       "      <td>news</td>\n",
       "      <td>3</td>\n",
       "      <td>today we test the thesis that a universal basi...</td>\n",
       "    </tr>\n",
       "    <tr>\n",
       "      <th>2</th>\n",
       "      <td>(2022, 11, 14, 23, 22, 0, 0, 318, 0)</td>\n",
       "      <td>46e05288-4e2a-11ed-909a-a7bb01bdf4e1</td>\n",
       "      <td>[{'length': '0', 'type': 'audio/mpeg', 'href':...</td>\n",
       "      <td>Princess Martha Louise Norway engaged American...</td>\n",
       "      <td>The Princess And The Shaman (Who Might Also Be...</td>\n",
       "      <td>{'type': 'text/html', 'language': None, 'base'...</td>\n",
       "      <td>{'type': 'text/plain', 'language': None, 'base...</td>\n",
       "      <td>Mon, 14 Nov 2022 23:22:00 -0000</td>\n",
       "      <td>False</td>\n",
       "      <td>news</td>\n",
       "      <td>3</td>\n",
       "      <td>princess martha louise of norway is engaged to...</td>\n",
       "    </tr>\n",
       "    <tr>\n",
       "      <th>3</th>\n",
       "      <td>(2022, 11, 12, 22, 30, 0, 5, 316, 0)</td>\n",
       "      <td>45be14ee-4e2a-11ed-909a-9bf573d3c5c0</td>\n",
       "      <td>[{'length': '0', 'type': 'audio/mpeg', 'href':...</td>\n",
       "      <td>In installment Best Of The Gist, look squishie...</td>\n",
       "      <td>BEST OF THE GIST: Squishy Science Edition</td>\n",
       "      <td>{'type': 'text/html', 'language': None, 'base'...</td>\n",
       "      <td>{'type': 'text/plain', 'language': None, 'base...</td>\n",
       "      <td>Sat, 12 Nov 2022 22:30:00 -0000</td>\n",
       "      <td>False</td>\n",
       "      <td>news</td>\n",
       "      <td>3</td>\n",
       "      <td>in this installment of best of the gist we loo...</td>\n",
       "    </tr>\n",
       "    <tr>\n",
       "      <th>4</th>\n",
       "      <td>(2022, 11, 11, 22, 0, 0, 4, 315, 0)</td>\n",
       "      <td>460fe80a-4e2a-11ed-909a-fb0f0740e50b</td>\n",
       "      <td>[{'length': '0', 'type': 'audio/mpeg', 'href':...</td>\n",
       "      <td>The pundit, case, The Gist host Mike Pesca. In...</td>\n",
       "      <td>What Went Right For The Dems And Wrong For The...</td>\n",
       "      <td>{'type': 'text/html', 'language': None, 'base'...</td>\n",
       "      <td>{'type': 'text/plain', 'language': None, 'base...</td>\n",
       "      <td>Fri, 11 Nov 2022 22:00:00 -0000</td>\n",
       "      <td>False</td>\n",
       "      <td>news</td>\n",
       "      <td>3</td>\n",
       "      <td>the pundit in this case being the gist host mi...</td>\n",
       "    </tr>\n",
       "  </tbody>\n",
       "</table>\n",
       "</div>"
      ],
      "text/plain": [
       "                        published_parsed  \\\n",
       "0  (2022, 11, 16, 21, 56, 41, 2, 320, 0)   \n",
       "1   (2022, 11, 15, 22, 4, 15, 1, 319, 0)   \n",
       "2   (2022, 11, 14, 23, 22, 0, 0, 318, 0)   \n",
       "3   (2022, 11, 12, 22, 30, 0, 5, 316, 0)   \n",
       "4    (2022, 11, 11, 22, 0, 0, 4, 315, 0)   \n",
       "\n",
       "                                     id  \\\n",
       "0  465e9b4e-4e2a-11ed-909a-0f2401518281   \n",
       "1  46b09cc8-4e2a-11ed-909a-43b06a29fdea   \n",
       "2  46e05288-4e2a-11ed-909a-a7bb01bdf4e1   \n",
       "3  45be14ee-4e2a-11ed-909a-9bf573d3c5c0   \n",
       "4  460fe80a-4e2a-11ed-909a-fb0f0740e50b   \n",
       "\n",
       "                                               links  \\\n",
       "0  [{'length': '0', 'type': 'audio/mpeg', 'href':...   \n",
       "1  [{'length': '0', 'type': 'audio/mpeg', 'href':...   \n",
       "2  [{'length': '0', 'type': 'audio/mpeg', 'href':...   \n",
       "3  [{'length': '0', 'type': 'audio/mpeg', 'href':...   \n",
       "4  [{'length': '0', 'type': 'audio/mpeg', 'href':...   \n",
       "\n",
       "                                             summary  \\\n",
       "0  Gordon Sondland Ambassador EU, eventually led ...   \n",
       "1  Today test thesis Universal Basic Book Deal (U...   \n",
       "2  Princess Martha Louise Norway engaged American...   \n",
       "3  In installment Best Of The Gist, look squishie...   \n",
       "4  The pundit, case, The Gist host Mike Pesca. In...   \n",
       "\n",
       "                                               title  \\\n",
       "0                       Implicating Trump Under Oath   \n",
       "1               The Democratization Of The Book Deal   \n",
       "2  The Princess And The Shaman (Who Might Also Be...   \n",
       "3          BEST OF THE GIST: Squishy Science Edition   \n",
       "4  What Went Right For The Dems And Wrong For The...   \n",
       "\n",
       "                                      summary_detail  \\\n",
       "0  {'type': 'text/plain', 'language': None, 'base...   \n",
       "1  {'type': 'text/html', 'language': None, 'base'...   \n",
       "2  {'type': 'text/html', 'language': None, 'base'...   \n",
       "3  {'type': 'text/html', 'language': None, 'base'...   \n",
       "4  {'type': 'text/html', 'language': None, 'base'...   \n",
       "\n",
       "                                        title_detail  \\\n",
       "0  {'type': 'text/plain', 'language': None, 'base...   \n",
       "1  {'type': 'text/plain', 'language': None, 'base...   \n",
       "2  {'type': 'text/plain', 'language': None, 'base...   \n",
       "3  {'type': 'text/plain', 'language': None, 'base...   \n",
       "4  {'type': 'text/plain', 'language': None, 'base...   \n",
       "\n",
       "                         published  guidislink topic  topic_num  \\\n",
       "0  Wed, 16 Nov 2022 21:56:41 -0000       False  news          3   \n",
       "1  Tue, 15 Nov 2022 22:04:15 -0000       False  news          3   \n",
       "2  Mon, 14 Nov 2022 23:22:00 -0000       False  news          3   \n",
       "3  Sat, 12 Nov 2022 22:30:00 -0000       False  news          3   \n",
       "4  Fri, 11 Nov 2022 22:00:00 -0000       False  news          3   \n",
       "\n",
       "                                       summary_clean  \n",
       "0  gordon sondland was ambassador to the eu which...  \n",
       "1  today we test the thesis that a universal basi...  \n",
       "2  princess martha louise of norway is engaged to...  \n",
       "3  in this installment of best of the gist we loo...  \n",
       "4  the pundit in this case being the gist host mi...  "
      ]
     },
     "execution_count": 48,
     "metadata": {},
     "output_type": "execute_result"
    }
   ],
   "source": [
    "submission_test_clean = test_df.copy()\n",
    "submission_test_clean = clean_text(submission_test_clean, \"summary\", \"summary_clean\")\n",
    "submission_test_clean['summary'] = submission_test_clean['summary'].apply(lambda x: ' '.join([word for word in x.split() if word not in (stop)]))\n",
    "submission_test_clean.head()"
   ]
  },
  {
   "cell_type": "code",
   "execution_count": 57,
   "metadata": {},
   "outputs": [
    {
     "data": {
      "text/html": [
       "<div>\n",
       "<style scoped>\n",
       "    .dataframe tbody tr th:only-of-type {\n",
       "        vertical-align: middle;\n",
       "    }\n",
       "\n",
       "    .dataframe tbody tr th {\n",
       "        vertical-align: top;\n",
       "    }\n",
       "\n",
       "    .dataframe thead th {\n",
       "        text-align: right;\n",
       "    }\n",
       "</style>\n",
       "<table border=\"1\" class=\"dataframe\">\n",
       "  <thead>\n",
       "    <tr style=\"text-align: right;\">\n",
       "      <th></th>\n",
       "      <th>published_parsed</th>\n",
       "      <th>id</th>\n",
       "      <th>links</th>\n",
       "      <th>summary</th>\n",
       "      <th>title</th>\n",
       "      <th>summary_detail</th>\n",
       "      <th>title_detail</th>\n",
       "      <th>published</th>\n",
       "      <th>guidislink</th>\n",
       "      <th>topic</th>\n",
       "      <th>topic_num</th>\n",
       "      <th>summary_clean</th>\n",
       "      <th>prediction</th>\n",
       "      <th>prediction_topic</th>\n",
       "      <th>correct_prediction</th>\n",
       "    </tr>\n",
       "  </thead>\n",
       "  <tbody>\n",
       "    <tr>\n",
       "      <th>0</th>\n",
       "      <td>(2022, 11, 16, 21, 56, 41, 2, 320, 0)</td>\n",
       "      <td>465e9b4e-4e2a-11ed-909a-0f2401518281</td>\n",
       "      <td>[{'length': '0', 'type': 'audio/mpeg', 'href':...</td>\n",
       "      <td>Gordon Sondland Ambassador EU, eventually led ...</td>\n",
       "      <td>Implicating Trump Under Oath</td>\n",
       "      <td>{'type': 'text/plain', 'language': None, 'base...</td>\n",
       "      <td>{'type': 'text/plain', 'language': None, 'base...</td>\n",
       "      <td>Wed, 16 Nov 2022 21:56:41 -0000</td>\n",
       "      <td>False</td>\n",
       "      <td>news</td>\n",
       "      <td>3</td>\n",
       "      <td>gordon sondland was ambassador to the eu which...</td>\n",
       "      <td>1</td>\n",
       "      <td>sport</td>\n",
       "      <td>True</td>\n",
       "    </tr>\n",
       "    <tr>\n",
       "      <th>1</th>\n",
       "      <td>(2022, 11, 15, 22, 4, 15, 1, 319, 0)</td>\n",
       "      <td>46b09cc8-4e2a-11ed-909a-43b06a29fdea</td>\n",
       "      <td>[{'length': '0', 'type': 'audio/mpeg', 'href':...</td>\n",
       "      <td>Today test thesis Universal Basic Book Deal (U...</td>\n",
       "      <td>The Democratization Of The Book Deal</td>\n",
       "      <td>{'type': 'text/html', 'language': None, 'base'...</td>\n",
       "      <td>{'type': 'text/plain', 'language': None, 'base...</td>\n",
       "      <td>Tue, 15 Nov 2022 22:04:15 -0000</td>\n",
       "      <td>False</td>\n",
       "      <td>news</td>\n",
       "      <td>3</td>\n",
       "      <td>today we test the thesis that a universal basi...</td>\n",
       "      <td>1</td>\n",
       "      <td>sport</td>\n",
       "      <td>False</td>\n",
       "    </tr>\n",
       "    <tr>\n",
       "      <th>2</th>\n",
       "      <td>(2022, 11, 14, 23, 22, 0, 0, 318, 0)</td>\n",
       "      <td>46e05288-4e2a-11ed-909a-a7bb01bdf4e1</td>\n",
       "      <td>[{'length': '0', 'type': 'audio/mpeg', 'href':...</td>\n",
       "      <td>Princess Martha Louise Norway engaged American...</td>\n",
       "      <td>The Princess And The Shaman (Who Might Also Be...</td>\n",
       "      <td>{'type': 'text/html', 'language': None, 'base'...</td>\n",
       "      <td>{'type': 'text/plain', 'language': None, 'base...</td>\n",
       "      <td>Mon, 14 Nov 2022 23:22:00 -0000</td>\n",
       "      <td>False</td>\n",
       "      <td>news</td>\n",
       "      <td>3</td>\n",
       "      <td>princess martha louise of norway is engaged to...</td>\n",
       "      <td>1</td>\n",
       "      <td>sport</td>\n",
       "      <td>False</td>\n",
       "    </tr>\n",
       "    <tr>\n",
       "      <th>3</th>\n",
       "      <td>(2022, 11, 12, 22, 30, 0, 5, 316, 0)</td>\n",
       "      <td>45be14ee-4e2a-11ed-909a-9bf573d3c5c0</td>\n",
       "      <td>[{'length': '0', 'type': 'audio/mpeg', 'href':...</td>\n",
       "      <td>In installment Best Of The Gist, look squishie...</td>\n",
       "      <td>BEST OF THE GIST: Squishy Science Edition</td>\n",
       "      <td>{'type': 'text/html', 'language': None, 'base'...</td>\n",
       "      <td>{'type': 'text/plain', 'language': None, 'base...</td>\n",
       "      <td>Sat, 12 Nov 2022 22:30:00 -0000</td>\n",
       "      <td>False</td>\n",
       "      <td>news</td>\n",
       "      <td>3</td>\n",
       "      <td>in this installment of best of the gist we loo...</td>\n",
       "      <td>1</td>\n",
       "      <td>sport</td>\n",
       "      <td>False</td>\n",
       "    </tr>\n",
       "    <tr>\n",
       "      <th>4</th>\n",
       "      <td>(2022, 11, 11, 22, 0, 0, 4, 315, 0)</td>\n",
       "      <td>460fe80a-4e2a-11ed-909a-fb0f0740e50b</td>\n",
       "      <td>[{'length': '0', 'type': 'audio/mpeg', 'href':...</td>\n",
       "      <td>The pundit, case, The Gist host Mike Pesca. In...</td>\n",
       "      <td>What Went Right For The Dems And Wrong For The...</td>\n",
       "      <td>{'type': 'text/html', 'language': None, 'base'...</td>\n",
       "      <td>{'type': 'text/plain', 'language': None, 'base...</td>\n",
       "      <td>Fri, 11 Nov 2022 22:00:00 -0000</td>\n",
       "      <td>False</td>\n",
       "      <td>news</td>\n",
       "      <td>3</td>\n",
       "      <td>the pundit in this case being the gist host mi...</td>\n",
       "      <td>1</td>\n",
       "      <td>sport</td>\n",
       "      <td>False</td>\n",
       "    </tr>\n",
       "  </tbody>\n",
       "</table>\n",
       "</div>"
      ],
      "text/plain": [
       "                        published_parsed  \\\n",
       "0  (2022, 11, 16, 21, 56, 41, 2, 320, 0)   \n",
       "1   (2022, 11, 15, 22, 4, 15, 1, 319, 0)   \n",
       "2   (2022, 11, 14, 23, 22, 0, 0, 318, 0)   \n",
       "3   (2022, 11, 12, 22, 30, 0, 5, 316, 0)   \n",
       "4    (2022, 11, 11, 22, 0, 0, 4, 315, 0)   \n",
       "\n",
       "                                     id  \\\n",
       "0  465e9b4e-4e2a-11ed-909a-0f2401518281   \n",
       "1  46b09cc8-4e2a-11ed-909a-43b06a29fdea   \n",
       "2  46e05288-4e2a-11ed-909a-a7bb01bdf4e1   \n",
       "3  45be14ee-4e2a-11ed-909a-9bf573d3c5c0   \n",
       "4  460fe80a-4e2a-11ed-909a-fb0f0740e50b   \n",
       "\n",
       "                                               links  \\\n",
       "0  [{'length': '0', 'type': 'audio/mpeg', 'href':...   \n",
       "1  [{'length': '0', 'type': 'audio/mpeg', 'href':...   \n",
       "2  [{'length': '0', 'type': 'audio/mpeg', 'href':...   \n",
       "3  [{'length': '0', 'type': 'audio/mpeg', 'href':...   \n",
       "4  [{'length': '0', 'type': 'audio/mpeg', 'href':...   \n",
       "\n",
       "                                             summary  \\\n",
       "0  Gordon Sondland Ambassador EU, eventually led ...   \n",
       "1  Today test thesis Universal Basic Book Deal (U...   \n",
       "2  Princess Martha Louise Norway engaged American...   \n",
       "3  In installment Best Of The Gist, look squishie...   \n",
       "4  The pundit, case, The Gist host Mike Pesca. In...   \n",
       "\n",
       "                                               title  \\\n",
       "0                       Implicating Trump Under Oath   \n",
       "1               The Democratization Of The Book Deal   \n",
       "2  The Princess And The Shaman (Who Might Also Be...   \n",
       "3          BEST OF THE GIST: Squishy Science Edition   \n",
       "4  What Went Right For The Dems And Wrong For The...   \n",
       "\n",
       "                                      summary_detail  \\\n",
       "0  {'type': 'text/plain', 'language': None, 'base...   \n",
       "1  {'type': 'text/html', 'language': None, 'base'...   \n",
       "2  {'type': 'text/html', 'language': None, 'base'...   \n",
       "3  {'type': 'text/html', 'language': None, 'base'...   \n",
       "4  {'type': 'text/html', 'language': None, 'base'...   \n",
       "\n",
       "                                        title_detail  \\\n",
       "0  {'type': 'text/plain', 'language': None, 'base...   \n",
       "1  {'type': 'text/plain', 'language': None, 'base...   \n",
       "2  {'type': 'text/plain', 'language': None, 'base...   \n",
       "3  {'type': 'text/plain', 'language': None, 'base...   \n",
       "4  {'type': 'text/plain', 'language': None, 'base...   \n",
       "\n",
       "                         published  guidislink topic  topic_num  \\\n",
       "0  Wed, 16 Nov 2022 21:56:41 -0000       False  news          3   \n",
       "1  Tue, 15 Nov 2022 22:04:15 -0000       False  news          3   \n",
       "2  Mon, 14 Nov 2022 23:22:00 -0000       False  news          3   \n",
       "3  Sat, 12 Nov 2022 22:30:00 -0000       False  news          3   \n",
       "4  Fri, 11 Nov 2022 22:00:00 -0000       False  news          3   \n",
       "\n",
       "                                       summary_clean  prediction  \\\n",
       "0  gordon sondland was ambassador to the eu which...           1   \n",
       "1  today we test the thesis that a universal basi...           1   \n",
       "2  princess martha louise of norway is engaged to...           1   \n",
       "3  in this installment of best of the gist we loo...           1   \n",
       "4  the pundit in this case being the gist host mi...           1   \n",
       "\n",
       "  prediction_topic  correct_prediction  \n",
       "0            sport                True  \n",
       "1            sport               False  \n",
       "2            sport               False  \n",
       "3            sport               False  \n",
       "4            sport               False  "
      ]
     },
     "execution_count": 57,
     "metadata": {},
     "output_type": "execute_result"
    }
   ],
   "source": [
    "# Run the model\n",
    "submission_test_pred = model.predict(submission_test_clean['summary_clean'])\n",
    "submission_test_clean['prediction'] = submission_test_pred\n",
    "submission_test_clean['prediction_topic'] = submission_test_clean['prediction'].apply(lambda x: inverse_topic_map.get(x))\n",
    "submission_test_clean[['topic', 'prediction_topic']][:20]\n",
    "submission_test_clean.head()"
   ]
  },
  {
   "cell_type": "code",
   "execution_count": 58,
   "metadata": {},
   "outputs": [],
   "source": [
    "submission_test_clean['correct_prediction'] = submission_test_clean['topic_num'] == submission_test_clean['prediction']"
   ]
  },
  {
   "cell_type": "code",
   "execution_count": 59,
   "metadata": {},
   "outputs": [
    {
     "data": {
      "text/plain": [
       "True     1965\n",
       "False    1760\n",
       "Name: correct_prediction, dtype: int64"
      ]
     },
     "execution_count": 59,
     "metadata": {},
     "output_type": "execute_result"
    }
   ],
   "source": [
    "submission_test_clean['correct_prediction'].value_counts()"
   ]
  },
  {
   "cell_type": "code",
   "execution_count": 60,
   "metadata": {},
   "outputs": [],
   "source": [
    "# Getting the correct numbers out \n",
    "prediction_nums = submission_test_clean.groupby('topic_num')['correct_prediction'].value_counts().to_dict()"
   ]
  },
  {
   "cell_type": "code",
   "execution_count": 61,
   "metadata": {},
   "outputs": [
    {
     "data": {
      "application/vnd.plotly.v1+json": {
       "config": {
        "plotlyServerURL": "https://plot.ly"
       },
       "data": [
        {
         "name": "Correct",
         "type": "bar",
         "x": [
          0,
          1,
          2,
          3
         ],
         "y": [
          879,
          200,
          641,
          245
         ]
        },
        {
         "name": "Wrong",
         "type": "bar",
         "x": [
          0,
          2,
          3
         ],
         "y": [
          27,
          38,
          1695
         ]
        }
       ],
       "layout": {
        "template": {
         "data": {
          "bar": [
           {
            "error_x": {
             "color": "#2a3f5f"
            },
            "error_y": {
             "color": "#2a3f5f"
            },
            "marker": {
             "line": {
              "color": "#E5ECF6",
              "width": 0.5
             },
             "pattern": {
              "fillmode": "overlay",
              "size": 10,
              "solidity": 0.2
             }
            },
            "type": "bar"
           }
          ],
          "barpolar": [
           {
            "marker": {
             "line": {
              "color": "#E5ECF6",
              "width": 0.5
             },
             "pattern": {
              "fillmode": "overlay",
              "size": 10,
              "solidity": 0.2
             }
            },
            "type": "barpolar"
           }
          ],
          "carpet": [
           {
            "aaxis": {
             "endlinecolor": "#2a3f5f",
             "gridcolor": "white",
             "linecolor": "white",
             "minorgridcolor": "white",
             "startlinecolor": "#2a3f5f"
            },
            "baxis": {
             "endlinecolor": "#2a3f5f",
             "gridcolor": "white",
             "linecolor": "white",
             "minorgridcolor": "white",
             "startlinecolor": "#2a3f5f"
            },
            "type": "carpet"
           }
          ],
          "choropleth": [
           {
            "colorbar": {
             "outlinewidth": 0,
             "ticks": ""
            },
            "type": "choropleth"
           }
          ],
          "contour": [
           {
            "colorbar": {
             "outlinewidth": 0,
             "ticks": ""
            },
            "colorscale": [
             [
              0,
              "#0d0887"
             ],
             [
              0.1111111111111111,
              "#46039f"
             ],
             [
              0.2222222222222222,
              "#7201a8"
             ],
             [
              0.3333333333333333,
              "#9c179e"
             ],
             [
              0.4444444444444444,
              "#bd3786"
             ],
             [
              0.5555555555555556,
              "#d8576b"
             ],
             [
              0.6666666666666666,
              "#ed7953"
             ],
             [
              0.7777777777777778,
              "#fb9f3a"
             ],
             [
              0.8888888888888888,
              "#fdca26"
             ],
             [
              1,
              "#f0f921"
             ]
            ],
            "type": "contour"
           }
          ],
          "contourcarpet": [
           {
            "colorbar": {
             "outlinewidth": 0,
             "ticks": ""
            },
            "type": "contourcarpet"
           }
          ],
          "heatmap": [
           {
            "colorbar": {
             "outlinewidth": 0,
             "ticks": ""
            },
            "colorscale": [
             [
              0,
              "#0d0887"
             ],
             [
              0.1111111111111111,
              "#46039f"
             ],
             [
              0.2222222222222222,
              "#7201a8"
             ],
             [
              0.3333333333333333,
              "#9c179e"
             ],
             [
              0.4444444444444444,
              "#bd3786"
             ],
             [
              0.5555555555555556,
              "#d8576b"
             ],
             [
              0.6666666666666666,
              "#ed7953"
             ],
             [
              0.7777777777777778,
              "#fb9f3a"
             ],
             [
              0.8888888888888888,
              "#fdca26"
             ],
             [
              1,
              "#f0f921"
             ]
            ],
            "type": "heatmap"
           }
          ],
          "heatmapgl": [
           {
            "colorbar": {
             "outlinewidth": 0,
             "ticks": ""
            },
            "colorscale": [
             [
              0,
              "#0d0887"
             ],
             [
              0.1111111111111111,
              "#46039f"
             ],
             [
              0.2222222222222222,
              "#7201a8"
             ],
             [
              0.3333333333333333,
              "#9c179e"
             ],
             [
              0.4444444444444444,
              "#bd3786"
             ],
             [
              0.5555555555555556,
              "#d8576b"
             ],
             [
              0.6666666666666666,
              "#ed7953"
             ],
             [
              0.7777777777777778,
              "#fb9f3a"
             ],
             [
              0.8888888888888888,
              "#fdca26"
             ],
             [
              1,
              "#f0f921"
             ]
            ],
            "type": "heatmapgl"
           }
          ],
          "histogram": [
           {
            "marker": {
             "pattern": {
              "fillmode": "overlay",
              "size": 10,
              "solidity": 0.2
             }
            },
            "type": "histogram"
           }
          ],
          "histogram2d": [
           {
            "colorbar": {
             "outlinewidth": 0,
             "ticks": ""
            },
            "colorscale": [
             [
              0,
              "#0d0887"
             ],
             [
              0.1111111111111111,
              "#46039f"
             ],
             [
              0.2222222222222222,
              "#7201a8"
             ],
             [
              0.3333333333333333,
              "#9c179e"
             ],
             [
              0.4444444444444444,
              "#bd3786"
             ],
             [
              0.5555555555555556,
              "#d8576b"
             ],
             [
              0.6666666666666666,
              "#ed7953"
             ],
             [
              0.7777777777777778,
              "#fb9f3a"
             ],
             [
              0.8888888888888888,
              "#fdca26"
             ],
             [
              1,
              "#f0f921"
             ]
            ],
            "type": "histogram2d"
           }
          ],
          "histogram2dcontour": [
           {
            "colorbar": {
             "outlinewidth": 0,
             "ticks": ""
            },
            "colorscale": [
             [
              0,
              "#0d0887"
             ],
             [
              0.1111111111111111,
              "#46039f"
             ],
             [
              0.2222222222222222,
              "#7201a8"
             ],
             [
              0.3333333333333333,
              "#9c179e"
             ],
             [
              0.4444444444444444,
              "#bd3786"
             ],
             [
              0.5555555555555556,
              "#d8576b"
             ],
             [
              0.6666666666666666,
              "#ed7953"
             ],
             [
              0.7777777777777778,
              "#fb9f3a"
             ],
             [
              0.8888888888888888,
              "#fdca26"
             ],
             [
              1,
              "#f0f921"
             ]
            ],
            "type": "histogram2dcontour"
           }
          ],
          "mesh3d": [
           {
            "colorbar": {
             "outlinewidth": 0,
             "ticks": ""
            },
            "type": "mesh3d"
           }
          ],
          "parcoords": [
           {
            "line": {
             "colorbar": {
              "outlinewidth": 0,
              "ticks": ""
             }
            },
            "type": "parcoords"
           }
          ],
          "pie": [
           {
            "automargin": true,
            "type": "pie"
           }
          ],
          "scatter": [
           {
            "fillpattern": {
             "fillmode": "overlay",
             "size": 10,
             "solidity": 0.2
            },
            "type": "scatter"
           }
          ],
          "scatter3d": [
           {
            "line": {
             "colorbar": {
              "outlinewidth": 0,
              "ticks": ""
             }
            },
            "marker": {
             "colorbar": {
              "outlinewidth": 0,
              "ticks": ""
             }
            },
            "type": "scatter3d"
           }
          ],
          "scattercarpet": [
           {
            "marker": {
             "colorbar": {
              "outlinewidth": 0,
              "ticks": ""
             }
            },
            "type": "scattercarpet"
           }
          ],
          "scattergeo": [
           {
            "marker": {
             "colorbar": {
              "outlinewidth": 0,
              "ticks": ""
             }
            },
            "type": "scattergeo"
           }
          ],
          "scattergl": [
           {
            "marker": {
             "colorbar": {
              "outlinewidth": 0,
              "ticks": ""
             }
            },
            "type": "scattergl"
           }
          ],
          "scattermapbox": [
           {
            "marker": {
             "colorbar": {
              "outlinewidth": 0,
              "ticks": ""
             }
            },
            "type": "scattermapbox"
           }
          ],
          "scatterpolar": [
           {
            "marker": {
             "colorbar": {
              "outlinewidth": 0,
              "ticks": ""
             }
            },
            "type": "scatterpolar"
           }
          ],
          "scatterpolargl": [
           {
            "marker": {
             "colorbar": {
              "outlinewidth": 0,
              "ticks": ""
             }
            },
            "type": "scatterpolargl"
           }
          ],
          "scatterternary": [
           {
            "marker": {
             "colorbar": {
              "outlinewidth": 0,
              "ticks": ""
             }
            },
            "type": "scatterternary"
           }
          ],
          "surface": [
           {
            "colorbar": {
             "outlinewidth": 0,
             "ticks": ""
            },
            "colorscale": [
             [
              0,
              "#0d0887"
             ],
             [
              0.1111111111111111,
              "#46039f"
             ],
             [
              0.2222222222222222,
              "#7201a8"
             ],
             [
              0.3333333333333333,
              "#9c179e"
             ],
             [
              0.4444444444444444,
              "#bd3786"
             ],
             [
              0.5555555555555556,
              "#d8576b"
             ],
             [
              0.6666666666666666,
              "#ed7953"
             ],
             [
              0.7777777777777778,
              "#fb9f3a"
             ],
             [
              0.8888888888888888,
              "#fdca26"
             ],
             [
              1,
              "#f0f921"
             ]
            ],
            "type": "surface"
           }
          ],
          "table": [
           {
            "cells": {
             "fill": {
              "color": "#EBF0F8"
             },
             "line": {
              "color": "white"
             }
            },
            "header": {
             "fill": {
              "color": "#C8D4E3"
             },
             "line": {
              "color": "white"
             }
            },
            "type": "table"
           }
          ]
         },
         "layout": {
          "annotationdefaults": {
           "arrowcolor": "#2a3f5f",
           "arrowhead": 0,
           "arrowwidth": 1
          },
          "autotypenumbers": "strict",
          "coloraxis": {
           "colorbar": {
            "outlinewidth": 0,
            "ticks": ""
           }
          },
          "colorscale": {
           "diverging": [
            [
             0,
             "#8e0152"
            ],
            [
             0.1,
             "#c51b7d"
            ],
            [
             0.2,
             "#de77ae"
            ],
            [
             0.3,
             "#f1b6da"
            ],
            [
             0.4,
             "#fde0ef"
            ],
            [
             0.5,
             "#f7f7f7"
            ],
            [
             0.6,
             "#e6f5d0"
            ],
            [
             0.7,
             "#b8e186"
            ],
            [
             0.8,
             "#7fbc41"
            ],
            [
             0.9,
             "#4d9221"
            ],
            [
             1,
             "#276419"
            ]
           ],
           "sequential": [
            [
             0,
             "#0d0887"
            ],
            [
             0.1111111111111111,
             "#46039f"
            ],
            [
             0.2222222222222222,
             "#7201a8"
            ],
            [
             0.3333333333333333,
             "#9c179e"
            ],
            [
             0.4444444444444444,
             "#bd3786"
            ],
            [
             0.5555555555555556,
             "#d8576b"
            ],
            [
             0.6666666666666666,
             "#ed7953"
            ],
            [
             0.7777777777777778,
             "#fb9f3a"
            ],
            [
             0.8888888888888888,
             "#fdca26"
            ],
            [
             1,
             "#f0f921"
            ]
           ],
           "sequentialminus": [
            [
             0,
             "#0d0887"
            ],
            [
             0.1111111111111111,
             "#46039f"
            ],
            [
             0.2222222222222222,
             "#7201a8"
            ],
            [
             0.3333333333333333,
             "#9c179e"
            ],
            [
             0.4444444444444444,
             "#bd3786"
            ],
            [
             0.5555555555555556,
             "#d8576b"
            ],
            [
             0.6666666666666666,
             "#ed7953"
            ],
            [
             0.7777777777777778,
             "#fb9f3a"
            ],
            [
             0.8888888888888888,
             "#fdca26"
            ],
            [
             1,
             "#f0f921"
            ]
           ]
          },
          "colorway": [
           "#636efa",
           "#EF553B",
           "#00cc96",
           "#ab63fa",
           "#FFA15A",
           "#19d3f3",
           "#FF6692",
           "#B6E880",
           "#FF97FF",
           "#FECB52"
          ],
          "font": {
           "color": "#2a3f5f"
          },
          "geo": {
           "bgcolor": "white",
           "lakecolor": "white",
           "landcolor": "#E5ECF6",
           "showlakes": true,
           "showland": true,
           "subunitcolor": "white"
          },
          "hoverlabel": {
           "align": "left"
          },
          "hovermode": "closest",
          "mapbox": {
           "style": "light"
          },
          "paper_bgcolor": "white",
          "plot_bgcolor": "#E5ECF6",
          "polar": {
           "angularaxis": {
            "gridcolor": "white",
            "linecolor": "white",
            "ticks": ""
           },
           "bgcolor": "#E5ECF6",
           "radialaxis": {
            "gridcolor": "white",
            "linecolor": "white",
            "ticks": ""
           }
          },
          "scene": {
           "xaxis": {
            "backgroundcolor": "#E5ECF6",
            "gridcolor": "white",
            "gridwidth": 2,
            "linecolor": "white",
            "showbackground": true,
            "ticks": "",
            "zerolinecolor": "white"
           },
           "yaxis": {
            "backgroundcolor": "#E5ECF6",
            "gridcolor": "white",
            "gridwidth": 2,
            "linecolor": "white",
            "showbackground": true,
            "ticks": "",
            "zerolinecolor": "white"
           },
           "zaxis": {
            "backgroundcolor": "#E5ECF6",
            "gridcolor": "white",
            "gridwidth": 2,
            "linecolor": "white",
            "showbackground": true,
            "ticks": "",
            "zerolinecolor": "white"
           }
          },
          "shapedefaults": {
           "line": {
            "color": "#2a3f5f"
           }
          },
          "ternary": {
           "aaxis": {
            "gridcolor": "white",
            "linecolor": "white",
            "ticks": ""
           },
           "baxis": {
            "gridcolor": "white",
            "linecolor": "white",
            "ticks": ""
           },
           "bgcolor": "#E5ECF6",
           "caxis": {
            "gridcolor": "white",
            "linecolor": "white",
            "ticks": ""
           }
          },
          "title": {
           "x": 0.05
          },
          "xaxis": {
           "automargin": true,
           "gridcolor": "white",
           "linecolor": "white",
           "ticks": "",
           "title": {
            "standoff": 15
           },
           "zerolinecolor": "white",
           "zerolinewidth": 2
          },
          "yaxis": {
           "automargin": true,
           "gridcolor": "white",
           "linecolor": "white",
           "ticks": "",
           "title": {
            "standoff": 15
           },
           "zerolinecolor": "white",
           "zerolinewidth": 2
          }
         }
        },
        "xaxis": {
         "tickmode": "array",
         "ticktext": [
          "news",
          "crime",
          "science",
          "sport"
         ],
         "tickvals": [
          3,
          2,
          0,
          1
         ]
        }
       }
      }
     },
     "metadata": {},
     "output_type": "display_data"
    }
   ],
   "source": [
    "plot = go.Figure(data=[go.Bar(\n",
    "    name = 'Correct',\n",
    "    x = [k[0] for k,v in prediction_nums.items() if k[1]],\n",
    "    y = [v for k,v in prediction_nums.items() if k[1]]\n",
    "   ),\n",
    "                       go.Bar(\n",
    "    name = 'Wrong',\n",
    "    x = [k[0] for k,v in prediction_nums.items() if not k[1]],\n",
    "    y = [v for k,v in prediction_nums.items() if not k[1]]\n",
    "   )\n",
    "])\n",
    "\n",
    "plot.update_layout(\n",
    "    xaxis = dict(\n",
    "        tickmode = 'array',\n",
    "        tickvals = submission_test_clean['topic_num'].unique().tolist(),\n",
    "        ticktext = submission_test_clean['topic'].unique().tolist()\n",
    "    )\n",
    ")\n",
    "\n",
    "                   \n",
    "plot.show()"
   ]
  },
  {
   "cell_type": "code",
   "execution_count": 65,
   "metadata": {},
   "outputs": [
    {
     "data": {
      "application/vnd.plotly.v1+json": {
       "config": {
        "plotlyServerURL": "https://plot.ly"
       },
       "data": [
        {
         "alignmentgroup": "True",
         "hovertemplate": "incorrect_prediction_text=%{text}<br>topic_text=%{x}<br>amount=%{y}<extra></extra>",
         "legendgroup": "news",
         "marker": {
          "color": "#636efa",
          "pattern": {
           "shape": ""
          }
         },
         "name": "news",
         "offsetgroup": "news",
         "orientation": "v",
         "showlegend": true,
         "text": [
          "news",
          "news"
         ],
         "textposition": "auto",
         "type": "bar",
         "x": [
          "science",
          "crime"
         ],
         "xaxis": "x",
         "y": [
          17,
          30
         ],
         "yaxis": "y"
        },
        {
         "alignmentgroup": "True",
         "hovertemplate": "incorrect_prediction_text=%{text}<br>topic_text=%{x}<br>amount=%{y}<extra></extra>",
         "legendgroup": "crime",
         "marker": {
          "color": "#EF553B",
          "pattern": {
           "shape": ""
          }
         },
         "name": "crime",
         "offsetgroup": "crime",
         "orientation": "v",
         "showlegend": true,
         "text": [
          "crime",
          "crime"
         ],
         "textposition": "auto",
         "type": "bar",
         "x": [
          "science",
          "news"
         ],
         "xaxis": "x",
         "y": [
          8,
          96
         ],
         "yaxis": "y"
        },
        {
         "alignmentgroup": "True",
         "hovertemplate": "incorrect_prediction_text=%{text}<br>topic_text=%{x}<br>amount=%{y}<extra></extra>",
         "legendgroup": "sport",
         "marker": {
          "color": "#00cc96",
          "pattern": {
           "shape": ""
          }
         },
         "name": "sport",
         "offsetgroup": "sport",
         "orientation": "v",
         "showlegend": true,
         "text": [
          "sport",
          "sport"
         ],
         "textposition": "auto",
         "type": "bar",
         "x": [
          "science",
          "news"
         ],
         "xaxis": "x",
         "y": [
          2,
          1587
         ],
         "yaxis": "y"
        },
        {
         "alignmentgroup": "True",
         "hovertemplate": "incorrect_prediction_text=%{text}<br>topic_text=%{x}<br>amount=%{y}<extra></extra>",
         "legendgroup": "science",
         "marker": {
          "color": "#ab63fa",
          "pattern": {
           "shape": ""
          }
         },
         "name": "science",
         "offsetgroup": "science",
         "orientation": "v",
         "showlegend": true,
         "text": [
          "science",
          "science"
         ],
         "textposition": "auto",
         "type": "bar",
         "x": [
          "crime",
          "news"
         ],
         "xaxis": "x",
         "y": [
          8,
          12
         ],
         "yaxis": "y"
        }
       ],
       "layout": {
        "barmode": "group",
        "legend": {
         "title": {
          "text": "incorrect_prediction_text"
         },
         "tracegroupgap": 0
        },
        "margin": {
         "t": 60
        },
        "template": {
         "data": {
          "bar": [
           {
            "error_x": {
             "color": "#2a3f5f"
            },
            "error_y": {
             "color": "#2a3f5f"
            },
            "marker": {
             "line": {
              "color": "#E5ECF6",
              "width": 0.5
             },
             "pattern": {
              "fillmode": "overlay",
              "size": 10,
              "solidity": 0.2
             }
            },
            "type": "bar"
           }
          ],
          "barpolar": [
           {
            "marker": {
             "line": {
              "color": "#E5ECF6",
              "width": 0.5
             },
             "pattern": {
              "fillmode": "overlay",
              "size": 10,
              "solidity": 0.2
             }
            },
            "type": "barpolar"
           }
          ],
          "carpet": [
           {
            "aaxis": {
             "endlinecolor": "#2a3f5f",
             "gridcolor": "white",
             "linecolor": "white",
             "minorgridcolor": "white",
             "startlinecolor": "#2a3f5f"
            },
            "baxis": {
             "endlinecolor": "#2a3f5f",
             "gridcolor": "white",
             "linecolor": "white",
             "minorgridcolor": "white",
             "startlinecolor": "#2a3f5f"
            },
            "type": "carpet"
           }
          ],
          "choropleth": [
           {
            "colorbar": {
             "outlinewidth": 0,
             "ticks": ""
            },
            "type": "choropleth"
           }
          ],
          "contour": [
           {
            "colorbar": {
             "outlinewidth": 0,
             "ticks": ""
            },
            "colorscale": [
             [
              0,
              "#0d0887"
             ],
             [
              0.1111111111111111,
              "#46039f"
             ],
             [
              0.2222222222222222,
              "#7201a8"
             ],
             [
              0.3333333333333333,
              "#9c179e"
             ],
             [
              0.4444444444444444,
              "#bd3786"
             ],
             [
              0.5555555555555556,
              "#d8576b"
             ],
             [
              0.6666666666666666,
              "#ed7953"
             ],
             [
              0.7777777777777778,
              "#fb9f3a"
             ],
             [
              0.8888888888888888,
              "#fdca26"
             ],
             [
              1,
              "#f0f921"
             ]
            ],
            "type": "contour"
           }
          ],
          "contourcarpet": [
           {
            "colorbar": {
             "outlinewidth": 0,
             "ticks": ""
            },
            "type": "contourcarpet"
           }
          ],
          "heatmap": [
           {
            "colorbar": {
             "outlinewidth": 0,
             "ticks": ""
            },
            "colorscale": [
             [
              0,
              "#0d0887"
             ],
             [
              0.1111111111111111,
              "#46039f"
             ],
             [
              0.2222222222222222,
              "#7201a8"
             ],
             [
              0.3333333333333333,
              "#9c179e"
             ],
             [
              0.4444444444444444,
              "#bd3786"
             ],
             [
              0.5555555555555556,
              "#d8576b"
             ],
             [
              0.6666666666666666,
              "#ed7953"
             ],
             [
              0.7777777777777778,
              "#fb9f3a"
             ],
             [
              0.8888888888888888,
              "#fdca26"
             ],
             [
              1,
              "#f0f921"
             ]
            ],
            "type": "heatmap"
           }
          ],
          "heatmapgl": [
           {
            "colorbar": {
             "outlinewidth": 0,
             "ticks": ""
            },
            "colorscale": [
             [
              0,
              "#0d0887"
             ],
             [
              0.1111111111111111,
              "#46039f"
             ],
             [
              0.2222222222222222,
              "#7201a8"
             ],
             [
              0.3333333333333333,
              "#9c179e"
             ],
             [
              0.4444444444444444,
              "#bd3786"
             ],
             [
              0.5555555555555556,
              "#d8576b"
             ],
             [
              0.6666666666666666,
              "#ed7953"
             ],
             [
              0.7777777777777778,
              "#fb9f3a"
             ],
             [
              0.8888888888888888,
              "#fdca26"
             ],
             [
              1,
              "#f0f921"
             ]
            ],
            "type": "heatmapgl"
           }
          ],
          "histogram": [
           {
            "marker": {
             "pattern": {
              "fillmode": "overlay",
              "size": 10,
              "solidity": 0.2
             }
            },
            "type": "histogram"
           }
          ],
          "histogram2d": [
           {
            "colorbar": {
             "outlinewidth": 0,
             "ticks": ""
            },
            "colorscale": [
             [
              0,
              "#0d0887"
             ],
             [
              0.1111111111111111,
              "#46039f"
             ],
             [
              0.2222222222222222,
              "#7201a8"
             ],
             [
              0.3333333333333333,
              "#9c179e"
             ],
             [
              0.4444444444444444,
              "#bd3786"
             ],
             [
              0.5555555555555556,
              "#d8576b"
             ],
             [
              0.6666666666666666,
              "#ed7953"
             ],
             [
              0.7777777777777778,
              "#fb9f3a"
             ],
             [
              0.8888888888888888,
              "#fdca26"
             ],
             [
              1,
              "#f0f921"
             ]
            ],
            "type": "histogram2d"
           }
          ],
          "histogram2dcontour": [
           {
            "colorbar": {
             "outlinewidth": 0,
             "ticks": ""
            },
            "colorscale": [
             [
              0,
              "#0d0887"
             ],
             [
              0.1111111111111111,
              "#46039f"
             ],
             [
              0.2222222222222222,
              "#7201a8"
             ],
             [
              0.3333333333333333,
              "#9c179e"
             ],
             [
              0.4444444444444444,
              "#bd3786"
             ],
             [
              0.5555555555555556,
              "#d8576b"
             ],
             [
              0.6666666666666666,
              "#ed7953"
             ],
             [
              0.7777777777777778,
              "#fb9f3a"
             ],
             [
              0.8888888888888888,
              "#fdca26"
             ],
             [
              1,
              "#f0f921"
             ]
            ],
            "type": "histogram2dcontour"
           }
          ],
          "mesh3d": [
           {
            "colorbar": {
             "outlinewidth": 0,
             "ticks": ""
            },
            "type": "mesh3d"
           }
          ],
          "parcoords": [
           {
            "line": {
             "colorbar": {
              "outlinewidth": 0,
              "ticks": ""
             }
            },
            "type": "parcoords"
           }
          ],
          "pie": [
           {
            "automargin": true,
            "type": "pie"
           }
          ],
          "scatter": [
           {
            "fillpattern": {
             "fillmode": "overlay",
             "size": 10,
             "solidity": 0.2
            },
            "type": "scatter"
           }
          ],
          "scatter3d": [
           {
            "line": {
             "colorbar": {
              "outlinewidth": 0,
              "ticks": ""
             }
            },
            "marker": {
             "colorbar": {
              "outlinewidth": 0,
              "ticks": ""
             }
            },
            "type": "scatter3d"
           }
          ],
          "scattercarpet": [
           {
            "marker": {
             "colorbar": {
              "outlinewidth": 0,
              "ticks": ""
             }
            },
            "type": "scattercarpet"
           }
          ],
          "scattergeo": [
           {
            "marker": {
             "colorbar": {
              "outlinewidth": 0,
              "ticks": ""
             }
            },
            "type": "scattergeo"
           }
          ],
          "scattergl": [
           {
            "marker": {
             "colorbar": {
              "outlinewidth": 0,
              "ticks": ""
             }
            },
            "type": "scattergl"
           }
          ],
          "scattermapbox": [
           {
            "marker": {
             "colorbar": {
              "outlinewidth": 0,
              "ticks": ""
             }
            },
            "type": "scattermapbox"
           }
          ],
          "scatterpolar": [
           {
            "marker": {
             "colorbar": {
              "outlinewidth": 0,
              "ticks": ""
             }
            },
            "type": "scatterpolar"
           }
          ],
          "scatterpolargl": [
           {
            "marker": {
             "colorbar": {
              "outlinewidth": 0,
              "ticks": ""
             }
            },
            "type": "scatterpolargl"
           }
          ],
          "scatterternary": [
           {
            "marker": {
             "colorbar": {
              "outlinewidth": 0,
              "ticks": ""
             }
            },
            "type": "scatterternary"
           }
          ],
          "surface": [
           {
            "colorbar": {
             "outlinewidth": 0,
             "ticks": ""
            },
            "colorscale": [
             [
              0,
              "#0d0887"
             ],
             [
              0.1111111111111111,
              "#46039f"
             ],
             [
              0.2222222222222222,
              "#7201a8"
             ],
             [
              0.3333333333333333,
              "#9c179e"
             ],
             [
              0.4444444444444444,
              "#bd3786"
             ],
             [
              0.5555555555555556,
              "#d8576b"
             ],
             [
              0.6666666666666666,
              "#ed7953"
             ],
             [
              0.7777777777777778,
              "#fb9f3a"
             ],
             [
              0.8888888888888888,
              "#fdca26"
             ],
             [
              1,
              "#f0f921"
             ]
            ],
            "type": "surface"
           }
          ],
          "table": [
           {
            "cells": {
             "fill": {
              "color": "#EBF0F8"
             },
             "line": {
              "color": "white"
             }
            },
            "header": {
             "fill": {
              "color": "#C8D4E3"
             },
             "line": {
              "color": "white"
             }
            },
            "type": "table"
           }
          ]
         },
         "layout": {
          "annotationdefaults": {
           "arrowcolor": "#2a3f5f",
           "arrowhead": 0,
           "arrowwidth": 1
          },
          "autotypenumbers": "strict",
          "coloraxis": {
           "colorbar": {
            "outlinewidth": 0,
            "ticks": ""
           }
          },
          "colorscale": {
           "diverging": [
            [
             0,
             "#8e0152"
            ],
            [
             0.1,
             "#c51b7d"
            ],
            [
             0.2,
             "#de77ae"
            ],
            [
             0.3,
             "#f1b6da"
            ],
            [
             0.4,
             "#fde0ef"
            ],
            [
             0.5,
             "#f7f7f7"
            ],
            [
             0.6,
             "#e6f5d0"
            ],
            [
             0.7,
             "#b8e186"
            ],
            [
             0.8,
             "#7fbc41"
            ],
            [
             0.9,
             "#4d9221"
            ],
            [
             1,
             "#276419"
            ]
           ],
           "sequential": [
            [
             0,
             "#0d0887"
            ],
            [
             0.1111111111111111,
             "#46039f"
            ],
            [
             0.2222222222222222,
             "#7201a8"
            ],
            [
             0.3333333333333333,
             "#9c179e"
            ],
            [
             0.4444444444444444,
             "#bd3786"
            ],
            [
             0.5555555555555556,
             "#d8576b"
            ],
            [
             0.6666666666666666,
             "#ed7953"
            ],
            [
             0.7777777777777778,
             "#fb9f3a"
            ],
            [
             0.8888888888888888,
             "#fdca26"
            ],
            [
             1,
             "#f0f921"
            ]
           ],
           "sequentialminus": [
            [
             0,
             "#0d0887"
            ],
            [
             0.1111111111111111,
             "#46039f"
            ],
            [
             0.2222222222222222,
             "#7201a8"
            ],
            [
             0.3333333333333333,
             "#9c179e"
            ],
            [
             0.4444444444444444,
             "#bd3786"
            ],
            [
             0.5555555555555556,
             "#d8576b"
            ],
            [
             0.6666666666666666,
             "#ed7953"
            ],
            [
             0.7777777777777778,
             "#fb9f3a"
            ],
            [
             0.8888888888888888,
             "#fdca26"
            ],
            [
             1,
             "#f0f921"
            ]
           ]
          },
          "colorway": [
           "#636efa",
           "#EF553B",
           "#00cc96",
           "#ab63fa",
           "#FFA15A",
           "#19d3f3",
           "#FF6692",
           "#B6E880",
           "#FF97FF",
           "#FECB52"
          ],
          "font": {
           "color": "#2a3f5f"
          },
          "geo": {
           "bgcolor": "white",
           "lakecolor": "white",
           "landcolor": "#E5ECF6",
           "showlakes": true,
           "showland": true,
           "subunitcolor": "white"
          },
          "hoverlabel": {
           "align": "left"
          },
          "hovermode": "closest",
          "mapbox": {
           "style": "light"
          },
          "paper_bgcolor": "white",
          "plot_bgcolor": "#E5ECF6",
          "polar": {
           "angularaxis": {
            "gridcolor": "white",
            "linecolor": "white",
            "ticks": ""
           },
           "bgcolor": "#E5ECF6",
           "radialaxis": {
            "gridcolor": "white",
            "linecolor": "white",
            "ticks": ""
           }
          },
          "scene": {
           "xaxis": {
            "backgroundcolor": "#E5ECF6",
            "gridcolor": "white",
            "gridwidth": 2,
            "linecolor": "white",
            "showbackground": true,
            "ticks": "",
            "zerolinecolor": "white"
           },
           "yaxis": {
            "backgroundcolor": "#E5ECF6",
            "gridcolor": "white",
            "gridwidth": 2,
            "linecolor": "white",
            "showbackground": true,
            "ticks": "",
            "zerolinecolor": "white"
           },
           "zaxis": {
            "backgroundcolor": "#E5ECF6",
            "gridcolor": "white",
            "gridwidth": 2,
            "linecolor": "white",
            "showbackground": true,
            "ticks": "",
            "zerolinecolor": "white"
           }
          },
          "shapedefaults": {
           "line": {
            "color": "#2a3f5f"
           }
          },
          "ternary": {
           "aaxis": {
            "gridcolor": "white",
            "linecolor": "white",
            "ticks": ""
           },
           "baxis": {
            "gridcolor": "white",
            "linecolor": "white",
            "ticks": ""
           },
           "bgcolor": "#E5ECF6",
           "caxis": {
            "gridcolor": "white",
            "linecolor": "white",
            "ticks": ""
           }
          },
          "title": {
           "x": 0.05
          },
          "xaxis": {
           "automargin": true,
           "gridcolor": "white",
           "linecolor": "white",
           "ticks": "",
           "title": {
            "standoff": 15
           },
           "zerolinecolor": "white",
           "zerolinewidth": 2
          },
          "yaxis": {
           "automargin": true,
           "gridcolor": "white",
           "linecolor": "white",
           "ticks": "",
           "title": {
            "standoff": 15
           },
           "zerolinecolor": "white",
           "zerolinewidth": 2
          }
         }
        },
        "xaxis": {
         "anchor": "y",
         "domain": [
          0,
          1
         ],
         "title": {
          "text": "topic_text"
         }
        },
        "yaxis": {
         "anchor": "x",
         "domain": [
          0,
          1
         ],
         "title": {
          "text": "amount"
         }
        }
       }
      }
     },
     "metadata": {},
     "output_type": "display_data"
    }
   ],
   "source": [
    "# News is the worst by far, but let's see what it is mistaken for\n",
    "# gather all the prediction values\n",
    "all_predictions = submission_test_clean.groupby(['topic_num', 'correct_prediction'])['prediction'].value_counts().to_dict()\n",
    "\n",
    "# put into dataframe for easy plotting\n",
    "wrong_guesses = pd.DataFrame([{'topic' : k[0], 'incorrect_prediction':k[2], 'amount' : v} for k,v in all_predictions.items() if not k[1]])\n",
    "\n",
    "#mapping the text for the prediction categories\n",
    "wrong_guesses['incorrect_prediction_text'] = wrong_guesses['incorrect_prediction'].map(inverse_topic_map)\n",
    "wrong_guesses['topic_text'] = wrong_guesses['topic'].map(inverse_topic_map)\n",
    "\n",
    "wrong_plot = px.bar(wrong_guesses, \n",
    "    x='topic_text', \n",
    "    y='amount',\n",
    "    text='incorrect_prediction_text', \n",
    "    color='incorrect_prediction_text',\n",
    "    barmode='group',\n",
    ")\n",
    "                   \n",
    "wrong_plot.show()"
   ]
  },
  {
   "cell_type": "code",
   "execution_count": 55,
   "metadata": {},
   "outputs": [],
   "source": [
    "# If you think about it this makes sense\n",
    "# News is highly related to multiple subjects\n",
    "# But science, sports, and crime text is more specific than news (I'm guessing)"
   ]
  },
  {
   "cell_type": "code",
   "execution_count": 72,
   "metadata": {},
   "outputs": [
    {
     "data": {
      "text/plain": [
       "['ten years ago a disturbed young man entered a colorado movie theater where he shot and killed twelve people wounding  more we speak with his psychiatrist lynne fenton about warning signs treatment options and what more if anything could have been done fentons new book is aurora the psychiatrist who treated the movie theater killer tells her story plus tomorrows  billion lottery will probably make the winner happy which is the point but it seems to be one many people rebut and in the spiel a senate hearing on policing shows the challenges democrats face on a very important issue to votersproduced by joel patterson and corey waraemail us at thegistcomto advertise on the show visit learn more about your ad choices visit megaphonefmadchoices',\n",
       " 'on the gist the gift to the morehouse graduates is great but should it be celebrated or just the standard in the interview linda taylor committed many crimes but only one of themwelfare fraudreally mattered to politicians the press and the public anecdotes about kidnapping and possible murder would only get in the way of the portrait ronald reagan presented to american voters in  of a woman whose defrauding of taxpayer money was typical among those dependent on social programs slate national editor josh levin wrote slates most read story ever and has expanded it into a bookthe queen the forgotten life behind an american mythand a slate podcast the queen available now wherever you get your podcastsin the spiel anand giridharadas fact checking jared diamondlearn more about your ad choices visit megaphonefmadchoices',\n",
       " 'on the gist mike examines trumps bottomofthebarrel statements on immigration in the interview dina templeraston explains how she became fascinated by the teenage brain after years of covering terrorism for npr she was stunned to see so many young people leaving their homes to join isis teenagers arent just prone to falling in with terrorist recruiters their underdeveloped minds make them more susceptible to video gaming compulsions and violent behavior why templeraston finds answers in her audible original series what were you thinkingin the spiel a skit about the science and lopsided sex ratio of turtle lovelearn more about your ad choices visit megaphonefmadchoices']"
      ]
     },
     "execution_count": 72,
     "metadata": {},
     "output_type": "execute_result"
    }
   ],
   "source": [
    "submission_test_clean[(~submission_test_clean['correct_prediction']) & \n",
    "(submission_test_clean['topic']=='news') &\n",
    "(submission_test_clean['prediction_topic']=='crime')]['summary_clean'].tolist()[:3]"
   ]
  },
  {
   "cell_type": "code",
   "execution_count": null,
   "metadata": {},
   "outputs": [],
   "source": []
  }
 ],
 "metadata": {
  "kernelspec": {
   "display_name": "Python 3.9.13 ('base')",
   "language": "python",
   "name": "python3"
  },
  "language_info": {
   "codemirror_mode": {
    "name": "ipython",
    "version": 3
   },
   "file_extension": ".py",
   "mimetype": "text/x-python",
   "name": "python",
   "nbconvert_exporter": "python",
   "pygments_lexer": "ipython3",
   "version": "3.9.13"
  },
  "orig_nbformat": 4,
  "vscode": {
   "interpreter": {
    "hash": "3d597f4c481aa0f25dceb95d2a0067e73c0966dcbd003d741d821a7208527ecf"
   }
  }
 },
 "nbformat": 4,
 "nbformat_minor": 2
}
