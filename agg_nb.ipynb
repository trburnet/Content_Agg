{
 "cells": [
  {
   "cell_type": "code",
   "execution_count": 3,
   "metadata": {},
   "outputs": [],
   "source": [
    "from IPython.display import clear_output"
   ]
  },
  {
   "cell_type": "code",
   "execution_count": null,
   "metadata": {},
   "outputs": [],
   "source": []
  },
  {
   "cell_type": "code",
   "execution_count": null,
   "metadata": {},
   "outputs": [],
   "source": []
  },
  {
   "cell_type": "code",
   "execution_count": 152,
   "metadata": {},
   "outputs": [
    {
     "name": "stdout",
     "output_type": "stream",
     "text": [
      "Requirement already satisfied: nbformat in /opt/miniconda3/lib/python3.9/site-packages (5.7.0)\n",
      "Requirement already satisfied: jupyter-core in /opt/miniconda3/lib/python3.9/site-packages (from nbformat) (4.11.1)\n",
      "Requirement already satisfied: jsonschema>=2.6 in /opt/miniconda3/lib/python3.9/site-packages (from nbformat) (4.17.0)\n",
      "Requirement already satisfied: fastjsonschema in /opt/miniconda3/lib/python3.9/site-packages (from nbformat) (2.16.2)\n",
      "Requirement already satisfied: traitlets>=5.1 in /opt/miniconda3/lib/python3.9/site-packages (from nbformat) (5.1.1)\n",
      "Requirement already satisfied: attrs>=17.4.0 in /opt/miniconda3/lib/python3.9/site-packages (from jsonschema>=2.6->nbformat) (22.1.0)\n",
      "Requirement already satisfied: pyrsistent!=0.17.0,!=0.17.1,!=0.17.2,>=0.14.0 in /opt/miniconda3/lib/python3.9/site-packages (from jsonschema>=2.6->nbformat) (0.19.2)\n"
     ]
    }
   ],
   "source": [
    "!pip install --upgrade nbformat"
   ]
  },
  {
   "cell_type": "code",
   "execution_count": 143,
   "metadata": {},
   "outputs": [],
   "source": [
    "!pip3 install -r requirements.txt\n",
    "clear_output()"
   ]
  },
  {
   "cell_type": "code",
   "execution_count": 145,
   "metadata": {},
   "outputs": [],
   "source": [
    "import feedparser\n",
    "import requests\n",
    "from bs4 import BeautifulSoup\n",
    "from datetime import datetime, timedelta\n",
    "import pandas as pd\n",
    "from fuzzywuzzy import fuzz\n",
    "from fuzzywuzzy import process\n",
    "import matplotlib\n",
    "import plotly.express as px\n",
    "import plotly.graph_objects as go"
   ]
  },
  {
   "cell_type": "code",
   "execution_count": 65,
   "metadata": {},
   "outputs": [],
   "source": [
    "class Parser:\n",
    "    \"\"\" Parses out rss feeds\"\"\"\n",
    "\n",
    "    def __init__(self, start_date='2022-10-01', end_date='2022-11-01'):\n",
    "        \n",
    "        self.start_date = datetime.strptime(start_date, '%Y-%m-%d')\n",
    "        self.end_date = datetime.strptime(end_date, '%Y-%m-%d')\n",
    "\n",
    "    def retrieve_rss_feed(self, url):\n",
    "        xml_data = feedparser.parse(url)\n",
    "        return pd.DataFrame(xml_data.entries)\n",
    "            "
   ]
  },
  {
   "cell_type": "code",
   "execution_count": 42,
   "metadata": {},
   "outputs": [],
   "source": [
    "ps = Parser('2022-10-01', '2022-11-01')"
   ]
  },
  {
   "cell_type": "code",
   "execution_count": 44,
   "metadata": {},
   "outputs": [],
   "source": [
    "#Crime Junkie rss\n",
    "cj_df = ps.retrieve_rss_feed('https://feeds.simplecast.com/qm_9xx0g')"
   ]
  },
  {
   "cell_type": "code",
   "execution_count": 127,
   "metadata": {},
   "outputs": [],
   "source": [
    "cj_df['CJ_text_to_compare'] = cj_df.title.str.split(':')\n",
    "cj_df['CJ_text_to_compare'] = cj_df['CJ_text_to_compare'].apply(lambda x: x[1].strip() if len(x) > 1 else x[0].strip())\n",
    "cj_df['CJ_text_to_compare'] = cj_df['CJ_text_to_compare'].str.replace('[0-9]:;\",-', '', regex=True)\n",
    "cj_df['CJ_text_to_compare'] = cj_df['CJ_text_to_compare'].str.replace('Part', '', regex=False)"
   ]
  },
  {
   "cell_type": "code",
   "execution_count": 48,
   "metadata": {},
   "outputs": [],
   "source": [
    "# Morbid rss\n",
    "morbid_df = ps.retrieve_rss_feed('https://rss.art19.com/morbid-a-true-crime-podcast')"
   ]
  },
  {
   "cell_type": "code",
   "execution_count": 52,
   "metadata": {},
   "outputs": [
    {
     "data": {
      "text/html": [
       "<div>\n",
       "<style scoped>\n",
       "    .dataframe tbody tr th:only-of-type {\n",
       "        vertical-align: middle;\n",
       "    }\n",
       "\n",
       "    .dataframe tbody tr th {\n",
       "        vertical-align: top;\n",
       "    }\n",
       "\n",
       "    .dataframe thead th {\n",
       "        text-align: right;\n",
       "    }\n",
       "</style>\n",
       "<table border=\"1\" class=\"dataframe\">\n",
       "  <thead>\n",
       "    <tr style=\"text-align: right;\">\n",
       "      <th></th>\n",
       "      <th>title</th>\n",
       "      <th>title_detail</th>\n",
       "      <th>summary</th>\n",
       "      <th>summary_detail</th>\n",
       "      <th>itunes_title</th>\n",
       "      <th>itunes_episodetype</th>\n",
       "      <th>itunes_episode</th>\n",
       "      <th>content</th>\n",
       "      <th>id</th>\n",
       "      <th>guidislink</th>\n",
       "      <th>published</th>\n",
       "      <th>published_parsed</th>\n",
       "      <th>itunes_explicit</th>\n",
       "      <th>image</th>\n",
       "      <th>tags</th>\n",
       "      <th>itunes_duration</th>\n",
       "      <th>links</th>\n",
       "    </tr>\n",
       "  </thead>\n",
       "  <tbody>\n",
       "    <tr>\n",
       "      <th>0</th>\n",
       "      <td>Episode 389: The Murder of Ali Kamel Fahmy Bey</td>\n",
       "      <td>{'type': 'text/plain', 'language': None, 'base...</td>\n",
       "      <td>&lt;p&gt;Marguerite Alibert was a woman set on getti...</td>\n",
       "      <td>{'type': 'text/html', 'language': None, 'base'...</td>\n",
       "      <td>The Murder of Ali Kamel Fahmy Bey</td>\n",
       "      <td>full</td>\n",
       "      <td>389</td>\n",
       "      <td>[{'type': 'text/plain', 'language': None, 'bas...</td>\n",
       "      <td>gid://art19-episode-locator/V0/UK3_zsKk7oXX9I8...</td>\n",
       "      <td>False</td>\n",
       "      <td>Wed, 09 Nov 2022 08:00:00 -0000</td>\n",
       "      <td>(2022, 11, 9, 8, 0, 0, 2, 313, 0)</td>\n",
       "      <td>True</td>\n",
       "      <td>{'href': 'https://content.production.cdn.art19...</td>\n",
       "      <td>[{'term': 'True crime', 'scheme': 'http://www....</td>\n",
       "      <td>01:38:54</td>\n",
       "      <td>[{'type': 'audio/mpeg', 'length': '94958236', ...</td>\n",
       "    </tr>\n",
       "    <tr>\n",
       "      <th>1</th>\n",
       "      <td>Episode 388: Halloween &amp; The Original Hellfire...</td>\n",
       "      <td>{'type': 'text/plain', 'language': None, 'base...</td>\n",
       "      <td>&lt;p&gt;Today we have the esteemed pleasure of sitt...</td>\n",
       "      <td>{'type': 'text/html', 'language': None, 'base'...</td>\n",
       "      <td>Halloween &amp; The Original Hellfire Club with Ca...</td>\n",
       "      <td>full</td>\n",
       "      <td>388</td>\n",
       "      <td>[{'type': 'text/plain', 'language': None, 'bas...</td>\n",
       "      <td>gid://art19-episode-locator/V0/E_SkxUrVc3hrTgF...</td>\n",
       "      <td>False</td>\n",
       "      <td>Mon, 07 Nov 2022 08:00:00 -0000</td>\n",
       "      <td>(2022, 11, 7, 8, 0, 0, 0, 311, 0)</td>\n",
       "      <td>True</td>\n",
       "      <td>{'href': 'https://content.production.cdn.art19...</td>\n",
       "      <td>[{'term': 'True crime', 'scheme': 'http://www....</td>\n",
       "      <td>01:10:45</td>\n",
       "      <td>[{'type': 'audio/mpeg', 'length': '67923800', ...</td>\n",
       "    </tr>\n",
       "    <tr>\n",
       "      <th>2</th>\n",
       "      <td>Episode 387: Listener Tales 56</td>\n",
       "      <td>{'type': 'text/plain', 'language': None, 'base...</td>\n",
       "      <td>&lt;p&gt;We’ve got another themed Listener Tales epi...</td>\n",
       "      <td>{'type': 'text/html', 'language': None, 'base'...</td>\n",
       "      <td>Listener Tales 56</td>\n",
       "      <td>full</td>\n",
       "      <td>387</td>\n",
       "      <td>[{'type': 'text/plain', 'language': None, 'bas...</td>\n",
       "      <td>gid://art19-episode-locator/V0/kb4vJosf6MGm61l...</td>\n",
       "      <td>False</td>\n",
       "      <td>Fri, 04 Nov 2022 07:00:00 -0000</td>\n",
       "      <td>(2022, 11, 4, 7, 0, 0, 4, 308, 0)</td>\n",
       "      <td>True</td>\n",
       "      <td>{'href': 'https://content.production.cdn.art19...</td>\n",
       "      <td>[{'term': 'True crime', 'scheme': 'http://www....</td>\n",
       "      <td>01:19:13</td>\n",
       "      <td>[{'type': 'audio/mpeg', 'length': '76056032', ...</td>\n",
       "    </tr>\n",
       "    <tr>\n",
       "      <th>3</th>\n",
       "      <td>Episode 386: Fairy Lights, Witches &amp; Curses OH...</td>\n",
       "      <td>{'type': 'text/plain', 'language': None, 'base...</td>\n",
       "      <td>&lt;p&gt;Urban legends for Halloween? YOU BETCHA!  A...</td>\n",
       "      <td>{'type': 'text/html', 'language': None, 'base'...</td>\n",
       "      <td>Fairy Lights, Witches &amp; Curses OH MY!</td>\n",
       "      <td>full</td>\n",
       "      <td>386</td>\n",
       "      <td>[{'type': 'text/plain', 'language': None, 'bas...</td>\n",
       "      <td>gid://art19-episode-locator/V0/0co6K5mS3SXuIw4...</td>\n",
       "      <td>False</td>\n",
       "      <td>Wed, 02 Nov 2022 07:00:00 -0000</td>\n",
       "      <td>(2022, 11, 2, 7, 0, 0, 2, 306, 0)</td>\n",
       "      <td>True</td>\n",
       "      <td>{'href': 'https://content.production.cdn.art19...</td>\n",
       "      <td>[{'term': 'True Crime', 'scheme': 'http://www....</td>\n",
       "      <td>01:03:37</td>\n",
       "      <td>[{'type': 'audio/mpeg', 'length': '61078047', ...</td>\n",
       "    </tr>\n",
       "    <tr>\n",
       "      <th>4</th>\n",
       "      <td>Episode 385: Terrifying HometownTales with Two...</td>\n",
       "      <td>{'type': 'text/plain', 'language': None, 'base...</td>\n",
       "      <td>&lt;p&gt;Friends! We finally got to sit down with Co...</td>\n",
       "      <td>{'type': 'text/html', 'language': None, 'base'...</td>\n",
       "      <td>Terrifying HometownTales with Two Girls One Gh...</td>\n",
       "      <td>full</td>\n",
       "      <td>385</td>\n",
       "      <td>[{'type': 'text/plain', 'language': None, 'bas...</td>\n",
       "      <td>gid://art19-episode-locator/V0/SSUAvEZapHC0NYO...</td>\n",
       "      <td>False</td>\n",
       "      <td>Mon, 31 Oct 2022 07:00:00 -0000</td>\n",
       "      <td>(2022, 10, 31, 7, 0, 0, 0, 304, 0)</td>\n",
       "      <td>True</td>\n",
       "      <td>{'href': 'https://content.production.cdn.art19...</td>\n",
       "      <td>[{'term': 'True Crime', 'scheme': 'http://www....</td>\n",
       "      <td>02:09:20</td>\n",
       "      <td>[{'type': 'audio/mpeg', 'length': '124162716',...</td>\n",
       "    </tr>\n",
       "  </tbody>\n",
       "</table>\n",
       "</div>"
      ],
      "text/plain": [
       "                                               title  \\\n",
       "0     Episode 389: The Murder of Ali Kamel Fahmy Bey   \n",
       "1  Episode 388: Halloween & The Original Hellfire...   \n",
       "2                     Episode 387: Listener Tales 56   \n",
       "3  Episode 386: Fairy Lights, Witches & Curses OH...   \n",
       "4  Episode 385: Terrifying HometownTales with Two...   \n",
       "\n",
       "                                        title_detail  \\\n",
       "0  {'type': 'text/plain', 'language': None, 'base...   \n",
       "1  {'type': 'text/plain', 'language': None, 'base...   \n",
       "2  {'type': 'text/plain', 'language': None, 'base...   \n",
       "3  {'type': 'text/plain', 'language': None, 'base...   \n",
       "4  {'type': 'text/plain', 'language': None, 'base...   \n",
       "\n",
       "                                             summary  \\\n",
       "0  <p>Marguerite Alibert was a woman set on getti...   \n",
       "1  <p>Today we have the esteemed pleasure of sitt...   \n",
       "2  <p>We’ve got another themed Listener Tales epi...   \n",
       "3  <p>Urban legends for Halloween? YOU BETCHA!  A...   \n",
       "4  <p>Friends! We finally got to sit down with Co...   \n",
       "\n",
       "                                      summary_detail  \\\n",
       "0  {'type': 'text/html', 'language': None, 'base'...   \n",
       "1  {'type': 'text/html', 'language': None, 'base'...   \n",
       "2  {'type': 'text/html', 'language': None, 'base'...   \n",
       "3  {'type': 'text/html', 'language': None, 'base'...   \n",
       "4  {'type': 'text/html', 'language': None, 'base'...   \n",
       "\n",
       "                                        itunes_title itunes_episodetype  \\\n",
       "0                  The Murder of Ali Kamel Fahmy Bey               full   \n",
       "1  Halloween & The Original Hellfire Club with Ca...               full   \n",
       "2                                  Listener Tales 56               full   \n",
       "3              Fairy Lights, Witches & Curses OH MY!               full   \n",
       "4  Terrifying HometownTales with Two Girls One Gh...               full   \n",
       "\n",
       "  itunes_episode                                            content  \\\n",
       "0            389  [{'type': 'text/plain', 'language': None, 'bas...   \n",
       "1            388  [{'type': 'text/plain', 'language': None, 'bas...   \n",
       "2            387  [{'type': 'text/plain', 'language': None, 'bas...   \n",
       "3            386  [{'type': 'text/plain', 'language': None, 'bas...   \n",
       "4            385  [{'type': 'text/plain', 'language': None, 'bas...   \n",
       "\n",
       "                                                  id  guidislink  \\\n",
       "0  gid://art19-episode-locator/V0/UK3_zsKk7oXX9I8...       False   \n",
       "1  gid://art19-episode-locator/V0/E_SkxUrVc3hrTgF...       False   \n",
       "2  gid://art19-episode-locator/V0/kb4vJosf6MGm61l...       False   \n",
       "3  gid://art19-episode-locator/V0/0co6K5mS3SXuIw4...       False   \n",
       "4  gid://art19-episode-locator/V0/SSUAvEZapHC0NYO...       False   \n",
       "\n",
       "                         published                    published_parsed  \\\n",
       "0  Wed, 09 Nov 2022 08:00:00 -0000   (2022, 11, 9, 8, 0, 0, 2, 313, 0)   \n",
       "1  Mon, 07 Nov 2022 08:00:00 -0000   (2022, 11, 7, 8, 0, 0, 0, 311, 0)   \n",
       "2  Fri, 04 Nov 2022 07:00:00 -0000   (2022, 11, 4, 7, 0, 0, 4, 308, 0)   \n",
       "3  Wed, 02 Nov 2022 07:00:00 -0000   (2022, 11, 2, 7, 0, 0, 2, 306, 0)   \n",
       "4  Mon, 31 Oct 2022 07:00:00 -0000  (2022, 10, 31, 7, 0, 0, 0, 304, 0)   \n",
       "\n",
       "  itunes_explicit                                              image  \\\n",
       "0            True  {'href': 'https://content.production.cdn.art19...   \n",
       "1            True  {'href': 'https://content.production.cdn.art19...   \n",
       "2            True  {'href': 'https://content.production.cdn.art19...   \n",
       "3            True  {'href': 'https://content.production.cdn.art19...   \n",
       "4            True  {'href': 'https://content.production.cdn.art19...   \n",
       "\n",
       "                                                tags itunes_duration  \\\n",
       "0  [{'term': 'True crime', 'scheme': 'http://www....        01:38:54   \n",
       "1  [{'term': 'True crime', 'scheme': 'http://www....        01:10:45   \n",
       "2  [{'term': 'True crime', 'scheme': 'http://www....        01:19:13   \n",
       "3  [{'term': 'True Crime', 'scheme': 'http://www....        01:03:37   \n",
       "4  [{'term': 'True Crime', 'scheme': 'http://www....        02:09:20   \n",
       "\n",
       "                                               links  \n",
       "0  [{'type': 'audio/mpeg', 'length': '94958236', ...  \n",
       "1  [{'type': 'audio/mpeg', 'length': '67923800', ...  \n",
       "2  [{'type': 'audio/mpeg', 'length': '76056032', ...  \n",
       "3  [{'type': 'audio/mpeg', 'length': '61078047', ...  \n",
       "4  [{'type': 'audio/mpeg', 'length': '124162716',...  "
      ]
     },
     "execution_count": 52,
     "metadata": {},
     "output_type": "execute_result"
    }
   ],
   "source": [
    "morbid_df.head()"
   ]
  },
  {
   "cell_type": "code",
   "execution_count": 126,
   "metadata": {},
   "outputs": [],
   "source": [
    "morbid_df['Morbid_text_to_compare'] = morbid_df.title.str.split(':')\n",
    "morbid_df['Morbid_text_to_compare'] = morbid_df['Morbid_text_to_compare'].apply(lambda x: x[1].strip() if len(x) > 1 else x[0].strip())\n",
    "morbid_df['Morbid_text_to_compare'] = morbid_df['Morbid_text_to_compare'].str.replace('[0-9]:;\",-', '', regex=True)\n",
    "morbid_df['Morbid_text_to_compare'] = morbid_df['Morbid_text_to_compare'].str.replace('Part', '', regex=False)"
   ]
  },
  {
   "cell_type": "code",
   "execution_count": 129,
   "metadata": {},
   "outputs": [],
   "source": [
    "# Getting the text to compare into lists\n",
    "cj_titles = cj_df.CJ_text_to_compare.tolist()\n",
    "morbid_titles = morbid_df.Morbid_text_to_compare.tolist()"
   ]
  },
  {
   "cell_type": "code",
   "execution_count": 130,
   "metadata": {},
   "outputs": [
    {
     "data": {
      "text/plain": [
       "285"
      ]
     },
     "execution_count": 130,
     "metadata": {},
     "output_type": "execute_result"
    }
   ],
   "source": [
    "len(cj_titles)"
   ]
  },
  {
   "cell_type": "code",
   "execution_count": 131,
   "metadata": {},
   "outputs": [
    {
     "data": {
      "text/plain": [
       "449"
      ]
     },
     "execution_count": 131,
     "metadata": {},
     "output_type": "execute_result"
    }
   ],
   "source": [
    "len(morbid_titles)"
   ]
  },
  {
   "cell_type": "code",
   "execution_count": 132,
   "metadata": {},
   "outputs": [],
   "source": [
    "# Testing matches\n",
    "potential_matches = []\n",
    "for i in cj_titles:\n",
    "    potential_matches.append((i, process.extract(i, morbid_titles, limit=3, scorer=fuzz.WRatio)))\n",
    "\n",
    "# First time comparing 285 x 449 titles took 42 seconds"
   ]
  },
  {
   "cell_type": "code",
   "execution_count": 133,
   "metadata": {},
   "outputs": [],
   "source": [
    "good_matches = []\n",
    "for pm in potential_matches:\n",
    "    for t_matches in pm[1]:\n",
    "        # This is the threshold I want\n",
    "        if t_matches[1] > 88:\n",
    "            good_matches.append({'CJ_Title' : pm[0],\n",
    "                                'Morbid_Title' : t_matches[0],\n",
    "                                'Score' : t_matches[1]\n",
    "                                }   \n",
    "            )\n",
    "            "
   ]
  },
  {
   "cell_type": "code",
   "execution_count": 134,
   "metadata": {},
   "outputs": [],
   "source": [
    "matches_df = pd.DataFrame(good_matches)"
   ]
  },
  {
   "cell_type": "code",
   "execution_count": 135,
   "metadata": {},
   "outputs": [
    {
     "data": {
      "text/html": [
       "<div>\n",
       "<style scoped>\n",
       "    .dataframe tbody tr th:only-of-type {\n",
       "        vertical-align: middle;\n",
       "    }\n",
       "\n",
       "    .dataframe tbody tr th {\n",
       "        vertical-align: top;\n",
       "    }\n",
       "\n",
       "    .dataframe thead th {\n",
       "        text-align: right;\n",
       "    }\n",
       "</style>\n",
       "<table border=\"1\" class=\"dataframe\">\n",
       "  <thead>\n",
       "    <tr style=\"text-align: right;\">\n",
       "      <th></th>\n",
       "      <th>CJ_Title</th>\n",
       "      <th>Morbid_Title</th>\n",
       "      <th>Score</th>\n",
       "    </tr>\n",
       "  </thead>\n",
       "  <tbody>\n",
       "    <tr>\n",
       "      <th>0</th>\n",
       "      <td>Polly Klaas</td>\n",
       "      <td>The Abduction and Murder of Polly Klaas</td>\n",
       "      <td>90</td>\n",
       "    </tr>\n",
       "    <tr>\n",
       "      <th>1</th>\n",
       "      <td>Tara Calico</td>\n",
       "      <td>Tara Calico</td>\n",
       "      <td>100</td>\n",
       "    </tr>\n",
       "    <tr>\n",
       "      <th>2</th>\n",
       "      <td>Phoebe Handsjuk</td>\n",
       "      <td>The Mysterious Death of Phoebe Handsjuk  2</td>\n",
       "      <td>90</td>\n",
       "    </tr>\n",
       "    <tr>\n",
       "      <th>3</th>\n",
       "      <td>Phoebe Handsjuk</td>\n",
       "      <td>The Mysterious Death Of Phoebe Handsjuk  1</td>\n",
       "      <td>90</td>\n",
       "    </tr>\n",
       "    <tr>\n",
       "      <th>4</th>\n",
       "      <td>Brittanee Drexel</td>\n",
       "      <td>**AD FREE** The Mysterious Disappearance of Br...</td>\n",
       "      <td>90</td>\n",
       "    </tr>\n",
       "  </tbody>\n",
       "</table>\n",
       "</div>"
      ],
      "text/plain": [
       "           CJ_Title                                       Morbid_Title  Score\n",
       "0       Polly Klaas            The Abduction and Murder of Polly Klaas     90\n",
       "1       Tara Calico                                        Tara Calico    100\n",
       "2   Phoebe Handsjuk         The Mysterious Death of Phoebe Handsjuk  2     90\n",
       "3   Phoebe Handsjuk         The Mysterious Death Of Phoebe Handsjuk  1     90\n",
       "4  Brittanee Drexel  **AD FREE** The Mysterious Disappearance of Br...     90"
      ]
     },
     "execution_count": 135,
     "metadata": {},
     "output_type": "execute_result"
    }
   ],
   "source": [
    "matches_df.head()"
   ]
  },
  {
   "cell_type": "code",
   "execution_count": 137,
   "metadata": {},
   "outputs": [],
   "source": [
    "joined_df = matches_df.merge(cj_df[['CJ_text_to_compare', 'published']], how='left', left_on='CJ_Title', right_on='CJ_text_to_compare')\n",
    "joined_df = joined_df.merge(morbid_df[['Morbid_text_to_compare', 'published']], how='left', left_on='Morbid_Title', right_on='Morbid_text_to_compare')"
   ]
  },
  {
   "cell_type": "code",
   "execution_count": 139,
   "metadata": {},
   "outputs": [],
   "source": [
    "joined_df.rename(columns={\n",
    "    'published_x' : 'CJ_Date',\n",
    "    'published_y' : 'Morbid_Date'\n",
    "    }, inplace=True)"
   ]
  },
  {
   "cell_type": "code",
   "execution_count": 141,
   "metadata": {},
   "outputs": [],
   "source": [
    "joined_df['CJ_Date'] = pd.to_datetime(joined_df['CJ_Date'])\n",
    "joined_df['Morbid_Date'] = pd.to_datetime(joined_df['Morbid_Date'])"
   ]
  },
  {
   "cell_type": "code",
   "execution_count": 153,
   "metadata": {},
   "outputs": [
    {
     "ename": "ValueError",
     "evalue": "Mime type rendering requires nbformat>=4.2.0 but it is not installed",
     "output_type": "error",
     "traceback": [
      "\u001b[0;31m---------------------------------------------------------------------------\u001b[0m",
      "\u001b[0;31mValueError\u001b[0m                                Traceback (most recent call last)",
      "\u001b[1;32m/Users/taylorburnette/Documents/Projects/Content_Agg/agg_nb.ipynb Cell 24\u001b[0m in \u001b[0;36m<cell line: 6>\u001b[0;34m()\u001b[0m\n\u001b[1;32m      <a href='vscode-notebook-cell:/Users/taylorburnette/Documents/Projects/Content_Agg/agg_nb.ipynb#X43sZmlsZQ%3D%3D?line=2'>3</a>\u001b[0m fig2 \u001b[39m=\u001b[39m px\u001b[39m.\u001b[39mscatter(joined_df, x\u001b[39m=\u001b[39m\u001b[39m\"\u001b[39m\u001b[39mMorbid_Date\u001b[39m\u001b[39m\"\u001b[39m, y\u001b[39m=\u001b[39m\u001b[39m\"\u001b[39m\u001b[39mCJ_Title\u001b[39m\u001b[39m\"\u001b[39m)\n\u001b[1;32m      <a href='vscode-notebook-cell:/Users/taylorburnette/Documents/Projects/Content_Agg/agg_nb.ipynb#X43sZmlsZQ%3D%3D?line=4'>5</a>\u001b[0m fig3 \u001b[39m=\u001b[39m go\u001b[39m.\u001b[39mFigure(data\u001b[39m=\u001b[39mfig1\u001b[39m.\u001b[39mdata \u001b[39m+\u001b[39m fig2\u001b[39m.\u001b[39mdata)\n\u001b[0;32m----> <a href='vscode-notebook-cell:/Users/taylorburnette/Documents/Projects/Content_Agg/agg_nb.ipynb#X43sZmlsZQ%3D%3D?line=5'>6</a>\u001b[0m fig3\u001b[39m.\u001b[39;49mshow()\n",
      "File \u001b[0;32m/opt/miniconda3/lib/python3.9/site-packages/plotly/basedatatypes.py:3398\u001b[0m, in \u001b[0;36mBaseFigure.show\u001b[0;34m(self, *args, **kwargs)\u001b[0m\n\u001b[1;32m   3365\u001b[0m \u001b[39m\"\"\"\u001b[39;00m\n\u001b[1;32m   3366\u001b[0m \u001b[39mShow a figure using either the default renderer(s) or the renderer(s)\u001b[39;00m\n\u001b[1;32m   3367\u001b[0m \u001b[39mspecified by the renderer argument\u001b[39;00m\n\u001b[0;32m   (...)\u001b[0m\n\u001b[1;32m   3394\u001b[0m \u001b[39mNone\u001b[39;00m\n\u001b[1;32m   3395\u001b[0m \u001b[39m\"\"\"\u001b[39;00m\n\u001b[1;32m   3396\u001b[0m \u001b[39mimport\u001b[39;00m \u001b[39mplotly\u001b[39;00m\u001b[39m.\u001b[39;00m\u001b[39mio\u001b[39;00m \u001b[39mas\u001b[39;00m \u001b[39mpio\u001b[39;00m\n\u001b[0;32m-> 3398\u001b[0m \u001b[39mreturn\u001b[39;00m pio\u001b[39m.\u001b[39;49mshow(\u001b[39mself\u001b[39;49m, \u001b[39m*\u001b[39;49margs, \u001b[39m*\u001b[39;49m\u001b[39m*\u001b[39;49mkwargs)\n",
      "File \u001b[0;32m/opt/miniconda3/lib/python3.9/site-packages/plotly/io/_renderers.py:396\u001b[0m, in \u001b[0;36mshow\u001b[0;34m(fig, renderer, validate, **kwargs)\u001b[0m\n\u001b[1;32m    391\u001b[0m         \u001b[39mraise\u001b[39;00m \u001b[39mValueError\u001b[39;00m(\n\u001b[1;32m    392\u001b[0m             \u001b[39m\"\u001b[39m\u001b[39mMime type rendering requires ipython but it is not installed\u001b[39m\u001b[39m\"\u001b[39m\n\u001b[1;32m    393\u001b[0m         )\n\u001b[1;32m    395\u001b[0m     \u001b[39mif\u001b[39;00m \u001b[39mnot\u001b[39;00m nbformat \u001b[39mor\u001b[39;00m LooseVersion(nbformat\u001b[39m.\u001b[39m__version__) \u001b[39m<\u001b[39m LooseVersion(\u001b[39m\"\u001b[39m\u001b[39m4.2.0\u001b[39m\u001b[39m\"\u001b[39m):\n\u001b[0;32m--> 396\u001b[0m         \u001b[39mraise\u001b[39;00m \u001b[39mValueError\u001b[39;00m(\n\u001b[1;32m    397\u001b[0m             \u001b[39m\"\u001b[39m\u001b[39mMime type rendering requires nbformat>=4.2.0 but it is not installed\u001b[39m\u001b[39m\"\u001b[39m\n\u001b[1;32m    398\u001b[0m         )\n\u001b[1;32m    400\u001b[0m     ipython_display\u001b[39m.\u001b[39mdisplay(bundle, raw\u001b[39m=\u001b[39m\u001b[39mTrue\u001b[39;00m)\n\u001b[1;32m    402\u001b[0m \u001b[39m# external renderers\u001b[39;00m\n",
      "\u001b[0;31mValueError\u001b[0m: Mime type rendering requires nbformat>=4.2.0 but it is not installed"
     ]
    }
   ],
   "source": [
    "fig1 = px.scatter(joined_df, x=\"CJ_Date\", y=\"CJ_Title\")\n",
    "\n",
    "fig2 = px.scatter(joined_df, x=\"Morbid_Date\", y=\"CJ_Title\")\n",
    "\n",
    "fig3 = go.Figure(data=fig1.data + fig2.data)\n",
    "fig3.show()"
   ]
  },
  {
   "cell_type": "code",
   "execution_count": null,
   "metadata": {},
   "outputs": [],
   "source": [
    "# Use multiprocessing to compare podcasts"
   ]
  }
 ],
 "metadata": {
  "kernelspec": {
   "display_name": "Python 3.9.13 ('base')",
   "language": "python",
   "name": "python3"
  },
  "language_info": {
   "codemirror_mode": {
    "name": "ipython",
    "version": 3
   },
   "file_extension": ".py",
   "mimetype": "text/x-python",
   "name": "python",
   "nbconvert_exporter": "python",
   "pygments_lexer": "ipython3",
   "version": "3.9.13"
  },
  "orig_nbformat": 4,
  "vscode": {
   "interpreter": {
    "hash": "3d597f4c481aa0f25dceb95d2a0067e73c0966dcbd003d741d821a7208527ecf"
   }
  }
 },
 "nbformat": 4,
 "nbformat_minor": 2
}
